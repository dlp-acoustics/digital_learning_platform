{
 "cells": [
  {
   "cell_type": "markdown",
   "metadata": {},
   "source": [
    "# Chapter 2: Acoustic Fundamentals\n",
    "## Waveguides and Cavities"
   ]
  }
 ],
 "metadata": {
  "kernelspec": {
   "display_name": "Python 3.10.8 ('jupytervenv': venv)",
   "language": "python",
   "name": "python3"
  },
  "language_info": {
   "name": "python",
   "version": "3.10.8"
  },
  "orig_nbformat": 4,
  "vscode": {
   "interpreter": {
    "hash": "6aa71e7001aaf876c22cdbd3fdae7043bfec8e76d6f480ee0da004efdad7fe77"
   }
  }
 },
 "nbformat": 4,
 "nbformat_minor": 2
}
