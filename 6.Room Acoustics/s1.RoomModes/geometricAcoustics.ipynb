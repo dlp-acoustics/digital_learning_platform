{
 "cells": [
  {
   "attachments": {},
   "cell_type": "markdown",
   "metadata": {},
   "source": [
    "# Chapter 7: Room Acoustics\n",
    "## Geometric Acoustics"
   ]
  },
  {
   "attachments": {},
   "cell_type": "markdown",
   "metadata": {},
   "source": [
    "### Introduction\n",
    "In closed space the question is which way the various sorts of rooms influence the sounds produced in them has relevance in our everyday life, in particular, speech and music and also noise. This holds even more for auditoria and other spaces where people attend a lecture, enjoy an opera or concert, watch a sports events, etc. Every layman knows that a theatre or a concert hall may have good or less good ‘acoustics’.\n",
    "As we know that any sound field in an enclosure can be thought of as being composed of characteristic, three-dimensional standing wave patterns called normal modes. These modes depend on the shape of the room and on the physical properties of its boundary."
   ]
  },
  {
   "attachments": {},
   "cell_type": "markdown",
   "metadata": {},
   "source": [
    "An illustrative way of describing the propagation of sound in a room is offered by geometric acoustics which is, in analogy to geometric optics, limited to the range of very high frequencies where diffraction and interferences can be neglected. Then it is convenient to think of sound rays as the carriers of sound energy instead of extended sound waves. As in optics a ray may be imagined as an infinitely narrow section of a spherical wave emerging from a small sound source. From this concept it can be immediately concluded that the total energy of a sound ray remains constant during its propagation, provided we neglect attenuation in the air; however, its energy density is inversely proportional to the distance from its origin, as in any spherical wave.\n",
    "\n",
    "**Definition of a Sound Ray**\n",
    "\n",
    "![alternatvie text](..\\images\\Fig-4.png)\n",
    "\n",
    "In what follows a sound ray will be represented by a straight line; nevertheless, we should not forget its physical meaning. The most important law of geometric room acoustics is the law of 'specular' reflection which reduces to the simple rule as  \n",
    "*angle of incidence = angle of reflection*  \n",
    "\n",
    "Strictly speaking, this law holds only for the reflection of a plane wave from an infinitely extended surface. However, for practical purposes it may also be applied to surfaces of finite extension provided their dimensions are large compared to the wavelength.\n",
    "About the same holds for the reflection of sound rays from curved walls or ceilings; the reflection law may be applied to such surfaces if their radius of curvature is large, again in comparison with the wavelength.\n",
    "**Fig 2** represents schematically the longitudinal section of a room. In it some ray paths are marked along which the sound travels from a sound source A to some observation point P. The sound portion which reaches P on the shortest path is called the direct sound. All other contributions are due to reflections from the boundary. Apart from those rays which have undergone just one reflection, there are other ones which suffer multiple reflections before reaching the observation point. Thus one of these rays is reflected first from the rear wall of the stage and then from the ceiling, another one hits first the floor and the rear wall of the stage before it arrives at the ceiling which directs it eventually to the observation point P. The construction of such rays is a simple way to examine the contributions of wall and ceiling portions to the supply of an audience with sound. However, if many multiple reflections are to be taken into account, this picture will become too confusing and looses its clarity.\n",
    "\n",
    "**Longitudinal section of an auditorium with a few ray paths and image sources. A: sound source, A1: first order image sources, A2: second order image sources, etc.**\n",
    "\n",
    "![alternatvie text](..\\images\\Fig-5.png)\n"
   ]
  },
  {
   "attachments": {},
   "cell_type": "markdown",
   "metadata": {},
   "source": [
    "Viewed from the observation point P the reflected rays in Figure above, seem to originate from virtual sound sources which are mirror images of the original sound source. Thus the sources denoted by $A_1$ are mirror images of the source with respect to the floor, the rear wall of the stage and the ceiling. The ray which has undergone two reflections can be attributed to a second order image source ($A_2$, above), which itself is an image of the source $A_1$ (behind the stage) with respect to the plane containing the ceiling. And the ray including three reflections seems to arrive from an image source of third order $A_3$ which is the image of the lower virtual source $A_2$ with respect to the ceiling plane. This process of successive mirroring can be extended to all walls and may be continued ad lib. Since the number of image sources increases rapidly with increasing order it is useful to employ a digital computer for the practical implementation of this procedure. One has to assume, of course, that the original source and all its images produce the same signal. The energy loss of a ray due to imperfect wall reflections is approximately accounted for by attributing a reduced power output to the image source. Let $\\alpha_1$ , $\\alpha_2$, $\\alpha_3$, · · · , $\\alpha_n$ denote the absorption coefficients of the walls involved in the construction of a particular image source of nth order, then the power reduction factor of this image source is\n",
    "\n",
    "$(1-\\alpha_1)(1-\\alpha_2)(1-\\alpha_3)...(1-\\alpha_n)$\n",
    "\n",
    "The construction of image sources is particularly simple for a rectangular room.\n",
    "Because of the symmetry of this enclosure many of its image sources coincide. In their totality they form the regular pattern shown in Figure below which must be extended into the third dimension, of course.\n",
    "\n",
    "![alternatvie text](..\\images\\Fig-6.png)"
   ]
  },
  {
   "attachments": {},
   "cell_type": "markdown",
   "metadata": {},
   "source": [
    "Once we have determined a sufficient number of image sources which become weaker and weaker with increasing order, the boundary of the room is no longer needed; we can obtain the total sound signal in the observation point by adding the contributions of all image sources plus that of the direct sound, taking into account the energy loss and the time delay of each component, both grow with increasing distance.\n",
    "For calculating the resulting sound signal in the receiving point P, we ought to add the sound pressures of all contributions. If the room is excited by a sine tone the total intensity in $P$ is obtained as,\n",
    "\n",
    "$I=\\frac{1}{2Z_o}|\\sum_n{p_n}|^2=\\frac{1}{2Z_o}\\sum_n{\\sum_m{p_np_m^*}}$\n",
    "\n",
    "Here, the asterisk denotes the complex conjugate quantity. The contributions $p_n$ and $p_m$ have equal frequencies but their phase angles are quite different because of the different distances they have travelled. Therefore the terms with $n=m$ cancel if the number of components is very large, and\n",
    "\n",
    "$I=\\frac{1}{2Z_o}|\\sum_n{p_n}|^2=\\sum_n{|p|^2}$\n",
    "\n",
    "This means, it is permissible to add just the intensities instead of sound pressures, which is much simpler. The principle of image sources is limited to plane walls. If a reflecting surface is curved one must construct the wall normal for each point which is hit by a sound ray. This normal is the reference for the angles of incidence and reflection."
   ]
  },
  {
   "attachments": {},
   "cell_type": "markdown",
   "metadata": {},
   "source": [
    "### Impulse response of a room"
   ]
  },
  {
   "cell_type": "markdown",
   "metadata": {},
   "source": []
  }
 ],
 "metadata": {
  "kernelspec": {
   "display_name": "dlp",
   "language": "python",
   "name": "python3"
  },
  "language_info": {
   "name": "python",
   "version": "3.10.8 (tags/v3.10.8:aaaf517, Oct 11 2022, 16:50:30) [MSC v.1933 64 bit (AMD64)]"
  },
  "orig_nbformat": 4,
  "vscode": {
   "interpreter": {
    "hash": "c268bdd13dd0a3dc3fda71f5ee3a9d4f00ef0f3c1e6002ddfe4964e62f253ef3"
   }
  }
 },
 "nbformat": 4,
 "nbformat_minor": 2
}
