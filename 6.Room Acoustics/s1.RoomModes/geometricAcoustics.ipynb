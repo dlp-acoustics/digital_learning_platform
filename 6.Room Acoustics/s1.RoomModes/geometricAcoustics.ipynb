{
 "cells": [
  {
   "attachments": {},
   "cell_type": "markdown",
   "metadata": {},
   "source": [
    "# Chapter 7: Room Acoustics\n",
    "## Geometric Acoustics"
   ]
  },
  {
   "attachments": {},
   "cell_type": "markdown",
   "metadata": {},
   "source": [
    "### Introduction\n",
    "In closed space the question is which way the various sorts of rooms influence the sounds produced in them has relevance in our everyday life, in particular, speech and music and also noise. This holds even more for auditoria and other spaces where people attend a lecture, enjoy an opera or concert, watch a sports events, etc. Every layman knows that a theatre or a concert hall may have good or less good ‘acoustics’.\n",
    "As we know that any sound field in an enclosure can be thought of as being composed of characteristic, three-dimensional standing wave patterns called normal modes. These modes depend on the shape of the room and on the physical properties of its boundary."
   ]
  },
  {
   "attachments": {},
   "cell_type": "markdown",
   "metadata": {},
   "source": [
    "An illustrative way of describing the propagation of sound in a room is offered by geometric acoustics which is, in analogy to geometric optics, limited to the range of very high frequencies where diffraction and interferences can be neglected. Then it is convenient to think of sound rays as the carriers of sound energy instead of extended sound waves. As in optics a ray may be imagined as an infinitely narrow section of a spherical wave emerging from a small sound source. From this concept it can be immediately concluded that the total energy of a sound ray remains constant during its propagation, provided we neglect attenuation in the air; however, its energy density is inversely proportional to the distance from its origin, as in any spherical wave.\n",
    "\n",
    "**Definition of a Sound Ray**\n",
    "\n",
    "![alternatvie text](..\\images\\Fig-4.png)\n",
    "\n",
    "In what follows a sound ray will be represented by a straight line; nevertheless, we should not forget its physical meaning. The most important law of geometric room acoustics is the law of 'specular' reflection which reduces to the simple rule as  \n",
    "*angle of incidence = angle of reflection*  \n",
    "\n",
    "Strictly speaking, this law holds only for the reflection of a plane wave from an infinitely extended surface. However, for practical purposes it may also be applied to surfaces of finite extension provided their dimensions are large compared to the wavelength.\n",
    "About the same holds for the reflection of sound rays from curved walls or ceilings; the reflection law may be applied to such surfaces if their radius of curvature is large, again in comparison with the wavelength.\n",
    "**Fig 2** represents schematically the longitudinal section of a room. In it some ray paths are marked along which the sound travels from a sound source A to some observation point P. The sound portion which reaches P on the shortest path is called the direct sound. All other contributions are due to reflections from the boundary. Apart from those rays which have undergone just one reflection, there are other ones which suffer multiple reflections before reaching the observation point. Thus one of these rays is reflected first from the rear wall of the stage and then from the ceiling, another one hits first the floor and the rear wall of the stage before it arrives at the ceiling which directs it eventually to the observation point P. The construction of such rays is a simple way to examine the contributions of wall and ceiling portions to the supply of an audience with sound. However, if many multiple reflections are to be taken into account, this picture will become too confusing and looses its clarity.\n",
    "\n",
    "**Longitudinal section of an auditorium with a few ray paths and image sources. A: sound source, A1: first order image sources, A2: second order image sources, etc.**\n",
    "\n",
    "![alternatvie text](..\\images\\Fig-5.png)\n"
   ]
  },
  {
   "cell_type": "markdown",
   "metadata": {},
   "source": []
  }
 ],
 "metadata": {
  "kernelspec": {
   "display_name": "dlp",
   "language": "python",
   "name": "python3"
  },
  "language_info": {
   "name": "python",
   "version": "3.10.8 (tags/v3.10.8:aaaf517, Oct 11 2022, 16:50:30) [MSC v.1933 64 bit (AMD64)]"
  },
  "orig_nbformat": 4,
  "vscode": {
   "interpreter": {
    "hash": "c268bdd13dd0a3dc3fda71f5ee3a9d4f00ef0f3c1e6002ddfe4964e62f253ef3"
   }
  }
 },
 "nbformat": 4,
 "nbformat_minor": 2
}
