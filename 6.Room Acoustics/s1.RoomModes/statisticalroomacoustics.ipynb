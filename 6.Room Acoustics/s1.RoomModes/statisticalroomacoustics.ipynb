{
 "cells": [
  {
   "attachments": {},
   "cell_type": "markdown",
   "metadata": {},
   "source": [
    "# Chapter 7: Room Acoustics\n",
    "## STATISTICAL ROOM ACOUSTICS"
   ]
  },
  {
   "attachments": {},
   "cell_type": "markdown",
   "metadata": {},
   "source": [
    "### Diffuse Sound Field"
   ]
  },
  {
   "attachments": {},
   "cell_type": "markdown",
   "metadata": {},
   "source": [
    "The acoustical behaviour of a room is treated from a statistical point of view, based on energy balance considerations. It is assumed that the modal density is high enough, so that the influence of single modes in the room can be neglected. It is also assumed that the reflection density is high enough so that the phase relations between individual reflections can be neglected. This means that the reflections in the room are assumed to be uncorrelated and their contribution can be added on an energy basis.  \n",
    "The diffuse sound field is defined as a sound field in which  \n",
    "• The energy density is the same everywhere.  \n",
    "• All directions of sound propagation occur with the same probability.  \n",
    "\n",
    "It is obvious that the direct sound field near a sound source is not included in the diffuse sound field. Neither are the special interference phenomena that are known to give increased energy density near the room boundaries and corners. The diffuse sound field is an ideal sound field that does not exist in any room. However, in many cases, the diffuse sound field can be a good and very practical approximation to the real sound field."
   ]
  },
  {
   "attachments": {},
   "cell_type": "markdown",
   "metadata": {},
   "source": [
    "#### Incident sound power on a surface\n",
    "In a plane propagating sound wave, the relation between RMS sound pressure $p_1$ and sound intensity $I_1$ is\n",
    "\n",
    "| |\n",
    "|---|\n",
    "$p_1^2=I_1\\rho c$\n",
    "\n",
    "In a diffuse sound field, the RMS sound pressure $p_{diff}$ is the result of sound waves propagating in all directions, and all having the sound intensity $I_1$. By integration over a sphere with the solid angle $ψ=4π$, the RMS sound pressure in the diffuse sound field is\n",
    "\n",
    "| |\n",
    "|---|\n",
    "$p_{diff}^2=\\int_{ψ=4π}I_1\\rho c dψ=4\\pi I_1 \\rho c$\n",
    "\n",
    "In the case of a plane wave with the angle of incidence θ relative to the\n",
    "normal of the surface, the incident sound power per unit area on the\n",
    "surface is\n",
    "\n",
    "| |\n",
    "|---|\n",
    "$I_{\\theta}=I_1cos(\\theta)=\\frac{p_{diff}^2}{4\\pi \\rho c}cos(\\theta)$\n",
    "\n",
    "where $p_{diff}$ is the RMS sound pressure in the diffuse sound field. This is just the sound intensity in the plane propagating wave multiplied by the cosine, which is the projection of a unit area as seen from the angle of incidence, as shown in *Fig. 1*.\n",
    "\n",
    "**Figure 1**  \n",
    "![alternatvie text](..\\images\\Fig-8.png)\n",
    "\n",
    "The integration covers the solid angle $ψ=2π$ and *Fig. 2* shows the definition of the angles.\n",
    "\n",
    "| |\n",
    "|----|\n",
    "$I_{inc}=\\int_{ψ=4π} I_{\\theta}dψ=\\frac{1}{4\\pi}\\int_{0}^{2\\pi}\\int_{0}^{\\frac{pi}{2}}\\frac{p_{diff^2}}{\\rho c}cos(\\theta)sin(\\theta)d\\theta d\\phi=\\frac{p_{diff^2}}{4\\rho c}$\n",
    "\n",
    "It is noted that this is four times less than in the case of a plane wave of normal incidence.\n",
    "\n",
    "**Figure 2**  \n",
    "![alternatvie text](..\\images\\Fig-9.png)"
   ]
  },
  {
   "attachments": {},
   "cell_type": "markdown",
   "metadata": {},
   "source": [
    "#### Equivalent absorption area\n",
    "The absorption coefficient $\\alpha$ is defined as the ratio of the non-reflected sound energy to the incident sound energy on a surface. It can take values between 0 and 1; $\\alpha=1$ means that all incident sound energy is absorbed in the surface. An example of a surface with absorption coefficient, $\\alpha=1$ is an open window. Sabine in his original paper on reverberation from 1898 suggested the use of open-window unites for the absorption area. The product of area and absorption coefficient of a surface material is the equivalent absorption area of that surface, i.e. the area of open windows giving the same amount of sound absorption as the actual surface. The equivalent absorption area of a room is then,\n",
    "\n",
    "| |\n",
    "|---|\n",
    "$A=\\sum_i S_i\\alpha_i=S_1\\alpha_1+S_2\\alpha_2+...=S\\alpha_m$\n",
    "\n",
    "where $S$ is the total surface area of the room and $\\alpha_m$ is the mean absorption coefficient. The unit of $A$ is $m^2$. In general, the equivalent absorption area may also include sound absorption due to the air and due to persons or other objects in the room."
   ]
  },
  {
   "attachments": {},
   "cell_type": "markdown",
   "metadata": {},
   "source": [
    "#### Energy balance in a room\n",
    "The total acoustic energy in a room is the sum of potential energy and kinetic energy, or twice the potential energy, since the time average of the two parts must be equal. The total energy $E$ is the energy density multiplied by the room volume $V$, given as,\n",
    "\n",
    "| |\n",
    "|---|\n",
    "$E=\\frac{p^2}{\\rho c^2}V$\n",
    "\n",
    "Here, $p$ denotes the RMS sound pressure in the diffuse sound field (called $p_{diff}$). The energy absorbed in the room ($P_{a,abs}$) is the incident sound power per unit area multiplied by the total surface area and the mean absorption coefficient, i.e. the equivalent absorption area.\n",
    "\n",
    "| |\n",
    "|---|\n",
    "$P_{a,abs}=I_{inc}S\\alpha_m=I_{inc}A=\\frac{p^2}{4\\rho c}A$\n",
    "\n",
    "If $P_a$ is the sound power of a source in the room, the energy balance equation of the room is then,\n",
    "\n",
    "| |\n",
    "|---|\n",
    "$P_a -P_{a,abs}=\\frac{dE}{dt}$\n",
    "$P_a-\\frac{p^2}{4\\rho c}A=\\frac{V}{\\rho c^2}\\frac{d}{dt}(p^2)$\n",
    "\n",
    "With a constant sound source, a steady state situation is reached after some time, and the right side of the equation is zero. Hence, the absorbed power equals the power emitted from the source, and the steady state sound pressure in the room is the,\n",
    "\n",
    "| |\n",
    "|---|\n",
    "$p_s^2=\\frac{4P_a}{A}\\rho c$\n",
    "\n",
    "This equation shows that the sound power of a source can be determined by measuring the sound pressure generated by the source in a room, provided that the equivalent absorption area of the room is known. It also shows how the absorption area in a room has a direct influence on the sound pressure in the room. In some cases, it is more convenient to express above equation in terms of the sound pressure level $L_p$ and the sound power level $L_W$ as,\n",
    "\n",
    "| |\n",
    "|---|\n",
    "$L_p\\~=L_w+10lg(\\frac{4A_0}{A})$ (dB)\n",
    "\n",
    "where $A_0=1$ $m^2$ is a reference area."
   ]
  }
 ],
 "metadata": {
  "kernelspec": {
   "display_name": "dlp",
   "language": "python",
   "name": "python3"
  },
  "language_info": {
   "name": "python",
   "version": "3.10.8 (tags/v3.10.8:aaaf517, Oct 11 2022, 16:50:30) [MSC v.1933 64 bit (AMD64)]"
  },
  "orig_nbformat": 4,
  "vscode": {
   "interpreter": {
    "hash": "c268bdd13dd0a3dc3fda71f5ee3a9d4f00ef0f3c1e6002ddfe4964e62f253ef3"
   }
  }
 },
 "nbformat": 4,
 "nbformat_minor": 2
}
