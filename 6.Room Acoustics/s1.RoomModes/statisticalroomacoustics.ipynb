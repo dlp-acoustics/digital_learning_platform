{
 "cells": [
  {
   "attachments": {},
   "cell_type": "markdown",
   "metadata": {},
   "source": [
    "# Chapter 7: Room Acoustics\n",
    "## STATISTICAL ROOM ACOUSTICS"
   ]
  },
  {
   "attachments": {},
   "cell_type": "markdown",
   "metadata": {},
   "source": [
    "### Diffuse Sound Field"
   ]
  },
  {
   "attachments": {},
   "cell_type": "markdown",
   "metadata": {},
   "source": [
    "The acoustical behaviour of a room is treated from a statistical point of view, based on energy balance considerations. It is assumed that the modal density is high enough, so that the influence of single modes in the room can be neglected. It is also assumed that the reflection density is high enough so that the phase relations between individual reflections can be neglected. This means that the reflections in the room are assumed to be uncorrelated and their contribution can be added on an energy basis.  \n",
    "The diffuse sound field is defined as a sound field in which  \n",
    "• The energy density is the same everywhere.  \n",
    "• All directions of sound propagation occur with the same probability.  \n",
    "\n",
    "It is obvious that the direct sound field near a sound source is not included in the diffuse sound field. Neither are the special interference phenomena that are known to give increased energy density near the room boundaries and corners. The diffuse sound field is an ideal sound field that does not exist in any room. However, in many cases, the diffuse sound field can be a good and very practical approximation to the real sound field."
   ]
  },
  {
   "attachments": {},
   "cell_type": "markdown",
   "metadata": {},
   "source": [
    "#### Incident sound power on a surface\n",
    "In a plane propagating sound wave, the relation between RMS sound pressure $p_1$ and sound intensity $I_1$ is\n",
    "\n",
    "| |\n",
    "|---|\n",
    "$p_1^2=I_1\\rho c$\n",
    "\n",
    "In a diffuse sound field, the RMS sound pressure $p_{diff}$ is the result of sound waves propagating in all directions, and all having the sound intensity $I_1$. By integration over a sphere with the solid angle $ψ=4π$, the RMS sound pressure in the diffuse sound field is\n",
    "\n",
    "| |\n",
    "|---|\n",
    "$p_{diff}^2=\\int_{ψ=4π}I_1\\rho c dψ=4\\pi I_1 \\rho c$\n",
    "\n",
    "In the case of a plane wave with the angle of incidence θ relative to the\n",
    "normal of the surface, the incident sound power per unit area on the\n",
    "surface is\n",
    "\n",
    "| |\n",
    "|---|\n",
    "$I_{\\theta}=I_1cos(\\theta)=\\frac{p_{diff}^2}{4\\pi \\rho c}cos(\\theta)$\n",
    "\n",
    "where $p_{diff}$ is the RMS sound pressure in the diffuse sound field. This is just the sound intensity in the plane propagating wave multiplied by the cosine, which is the projection of a unit area as seen from the angle of incidence, as shown in *Fig. 1*.\n",
    "\n",
    "**Figure 1**  \n",
    "![alternatvie text](..\\images\\Fig-8.png)\n",
    "\n",
    "The integration covers the solid angle $ψ=2π$ and *Fig. 2* shows the definition of the angles.\n",
    "\n",
    "| |\n",
    "|----|\n",
    "$I_{inc}=\\int_{ψ=4π} I_{\\theta}dψ=\\frac{1}{4\\pi}\\int_{0}^{2\\pi}\\int_{0}^{\\frac{pi}{2}}\\frac{p_{diff^2}}{\\rho c}cos(\\theta)sin(\\theta)d\\theta d\\phi=\\frac{p_{diff^2}}{4\\rho c}$\n",
    "\n",
    "It is noted that this is four times less than in the case of a plane wave of normal incidence.\n",
    "\n",
    "**Figure 2**  \n",
    "![alternatvie text](..\\images\\Fig-9.png)"
   ]
  },
  {
   "attachments": {},
   "cell_type": "markdown",
   "metadata": {},
   "source": [
    "#### Equivalent absorption area\n",
    "The absorption coefficient $\\alpha$ is defined as the ratio of the non-reflected sound energy to the incident sound energy on a surface. It can take values between 0 and 1; $\\alpha=1$ means that all incident sound energy is absorbed in the surface. An example of a surface with absorption coefficient, $\\alpha=1$ is an open window. Sabine in his original paper on reverberation from 1898 suggested the use of open-window unites for the absorption area. The product of area and absorption coefficient of a surface material is the equivalent absorption area of that surface, i.e. the area of open windows giving the same amount of sound absorption as the actual surface. The equivalent absorption area of a room is then,\n",
    "\n",
    "| |\n",
    "|---|\n",
    "$A=\\sum_i S_i\\alpha_i=S_1\\alpha_1+S_2\\alpha_2+...=S\\alpha_m$\n",
    "\n",
    "where $S$ is the total surface area of the room and $\\alpha_m$ is the mean absorption coefficient. The unit of $A$ is $m^2$. In general, the equivalent absorption area may also include sound absorption due to the air and due to persons or other objects in the room."
   ]
  },
  {
   "attachments": {},
   "cell_type": "markdown",
   "metadata": {},
   "source": [
    "#### Energy balance in a room\n",
    "The total acoustic energy in a room is the sum of potential energy and kinetic energy, or twice the potential energy, since the time average of the two parts must be equal. The total energy $E$ is the energy density multiplied by the room volume $V$, given as,\n",
    "\n",
    "| |\n",
    "|---|\n",
    "$E=\\frac{p^2}{\\rho c^2}V$\n",
    "\n",
    "Here, $p$ denotes the RMS sound pressure in the diffuse sound field (called $p_{diff}$). The energy absorbed in the room ($P_{a,abs}$) is the incident sound power per unit area multiplied by the total surface area and the mean absorption coefficient, i.e. the equivalent absorption area.\n",
    "\n",
    "| |\n",
    "|---|\n",
    "$P_{a,abs}=I_{inc}S\\alpha_m=I_{inc}A=\\frac{p^2}{4\\rho c}A$\n",
    "\n",
    "If $P_a$ is the sound power of a source in the room, the energy balance equation of the room is then,\n",
    "\n",
    "| |\n",
    "|---|\n",
    "$P_a -P_{a,abs}=\\frac{dE}{dt}$\n",
    "$P_a-\\frac{p^2}{4\\rho c}A=\\frac{V}{\\rho c^2}\\frac{d}{dt}(p^2)$\n",
    "\n",
    "With a constant sound source, a steady state situation is reached after some time, and the right side of the equation is zero. Hence, the absorbed power equals the power emitted from the source, and the steady state sound pressure in the room is the,\n",
    "\n",
    "| |\n",
    "|---|\n",
    "$p_s^2=\\frac{4P_a}{A}\\rho c$\n",
    "\n",
    "This equation shows that the sound power of a source can be determined by measuring the sound pressure generated by the source in a room, provided that the equivalent absorption area of the room is known. It also shows how the absorption area in a room has a direct influence on the sound pressure in the room. In some cases, it is more convenient to express above equation in terms of the sound pressure level $L_p$ and the sound power level $L_W$ as,\n",
    "\n",
    "| |\n",
    "|---|\n",
    "$L_p\\~=L_w+10lg(\\frac{4A_0}{A})$ (dB)\n",
    "\n",
    "where $A_0=1$ $m^2$ is a reference area."
   ]
  },
  {
   "attachments": {},
   "cell_type": "markdown",
   "metadata": {},
   "source": [
    "#### Reverberation time: Sabine’s formula\n",
    "If the sound source is turned off after the sound pressure has reached the stationary value, the first term in the energy balance equation ($P_a-\\frac{p^2}{4\\rho c}A=\\frac{V}{\\rho c^2}\\frac{d}{dt}(p^2)$) is zero, and the RMS sound pressure is now a function of time as,\n",
    "\n",
    "| |\n",
    "|---|\n",
    "$\\frac{A}{4\\rho c}p^2(t)+\\frac{V}{\\rho c^2}\\frac{d}{dt}(p^2)$=0\n",
    "\n",
    "The solution to this equation can be written as,\n",
    "\n",
    "| |\n",
    "|---|\n",
    "$p^2(t)=p_s^2e^{\\frac{-cA}{4V}(t-t_0)}$\n",
    "\n",
    "where $p_s^2$ is the mean square sound pressure in the steady state and $t_0=1$ (s) is the time when the source is turned off. It can be seen that the mean square sound pressure, and hence, the sound energy, follow an exponential decay function. On a logarithmic scale, the decay is linear, and this is called the decay curve (see *Fig. 3* below).\n",
    "\n",
    "**Figure 3**  \n",
    "![alternatvie text](..\\images\\Fig-10.png)\n",
    "\n",
    "If instead the source is turned on at time $t=0$, the sound build up in the room follows a similar exponential curve, also shown in *Fig. 4* below.\n",
    "\n",
    "**Figure 4**  \n",
    "![alternatvie text](..\\images\\Fig-11.png)\n",
    "\n",
    "The reverberation time $T$ is defined as the time it takes for the sound energy in the room to decay to one millionth of the initial value, i.e. a $60dB$ decay of the sound pressure level. Hence, for $t=T$,\n",
    "\n",
    "| |\n",
    "|----|\n",
    "$p^2(t)=p_s^210^{-6}=p_s^2e^{\\frac{-cA}{4V}(T)}$\n",
    "\n",
    "Hence, the reverberation time is,\n",
    "\n",
    "| |\n",
    "|----|\n",
    "$T=6.ln(10).\\frac{4V}{cA}=\\frac{55.3V}{cA}$\n"
   ]
  },
  {
   "attachments": {},
   "cell_type": "markdown",
   "metadata": {},
   "source": [
    "**Interactive Example**"
   ]
  },
  {
   "cell_type": "code",
   "execution_count": 16,
   "metadata": {},
   "outputs": [
    {
     "data": {
      "application/vnd.jupyter.widget-view+json": {
       "model_id": "347ee53735f24ed8b3d6fff3ef2dd8bd",
       "version_major": 2,
       "version_minor": 0
      },
      "text/plain": [
       "interactive(children=(IntSlider(value=5, description='Length', max=10, min=1), IntSlider(value=5, description=…"
      ]
     },
     "metadata": {},
     "output_type": "display_data"
    }
   ],
   "source": [
    "import ipywidgets as widgets\n",
    "import numpy as np\n",
    "import matplotlib as plt\n",
    "#\n",
    "@widgets.interact(Length = (1,10), Width = (1,10), Height = (1,10), meanAbsorption = (0.1, 1))\n",
    "def eigenFrequency(Length,Width,Height,meanAbsorption):\n",
    "    soundSpeed = 341\n",
    "    Volume = Length*Width*Height\n",
    "    totalArea = 2*(Length*Width)+2*(Length*Height)+2*(Height*Width)\n",
    "    absorptionArea = totalArea*meanAbsorption\n",
    "    print('Reverberation Time   =    ', 55.3*Volume/(soundSpeed*absorptionArea),    \"(sec)\")"
   ]
  },
  {
   "attachments": {},
   "cell_type": "markdown",
   "metadata": {},
   "source": [
    "#### Stationary sound field in a room: (Reverberation distance)\n",
    "A reverberation room is a special room with long reverberation time and a good diffusion. In such a room, the diffuse sound field is a good approximation, and the results for stationary conditions and for sound decay can be applied to measure the sound power of a sound source as,\n",
    "\n",
    "| |\n",
    "|---|\n",
    "$P_a=\\frac{p_s^2}{4\\rho c}.\\frac{55.3V}{cT}$\n",
    "\n",
    "The reverberation time and the average sound pressure level in the reverberation room are measured, and the sound power level is calculated from\n",
    "\n",
    "| |\n",
    "|---|\n",
    "$L_w=L_p+10lg(\\frac{55.3 V p_{ref}^2}{4\\rho c^2 T P_{ref}})=L_p+10lg(\\frac{V}{V_0})-10lg(\\frac{T}{t_0})-14dB$\n",
    "\n",
    "where $V_0=1$ ($m^3$) and $t_0=1$ ($s$).\n",
    "\n",
    "In most ordinary rooms, the diffuse sound field is not a good approximation. Each of the following conditions may indicate that the sound field is not diffuse:  \n",
    "• An uneven distribution of sound absorption on the surfaces, e.g. only one surface is highly absorbing  \n",
    "• A lack of diffusing or sound scattering elements (e.g. furniture) in the room  \n",
    "• The ratio of longest to shortest room dimension is higher than three  \n",
    "• The volume is very large, say more than $5000 m^3$  \n",
    "\n",
    "A rather simple modification to the stationary sound field is to separate the\n",
    "direct sound. The sound power radiated by an omnidirectional source is\n",
    "the sound intensity at the distance r in a spherical sound field multiplied by\n",
    "the surface area of a sphere with radius r"
   ]
  }
 ],
 "metadata": {
  "kernelspec": {
   "display_name": "dlp",
   "language": "python",
   "name": "python3"
  },
  "language_info": {
   "codemirror_mode": {
    "name": "ipython",
    "version": 3
   },
   "file_extension": ".py",
   "mimetype": "text/x-python",
   "name": "python",
   "nbconvert_exporter": "python",
   "pygments_lexer": "ipython3",
   "version": "3.10.8"
  },
  "orig_nbformat": 4,
  "vscode": {
   "interpreter": {
    "hash": "c268bdd13dd0a3dc3fda71f5ee3a9d4f00ef0f3c1e6002ddfe4964e62f253ef3"
   }
  }
 },
 "nbformat": 4,
 "nbformat_minor": 2
}
