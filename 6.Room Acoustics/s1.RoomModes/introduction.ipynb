{
 "cells": [
  {
   "cell_type": "markdown",
   "metadata": {},
   "source": [
    "# Chapter 7: Building Acoustics\n",
    "## Introduction"
   ]
  },
  {
   "cell_type": "markdown",
   "metadata": {},
   "source": [
    "The architectural acoustics is divided into room acoustics and building acoustics. The origin of room acoustics as a scientific discipline is closely connected to the pioneering work done by Wallace C. Sabine (1868–1919) around 1896–1900.\n",
    "The beginning of building acoustics was quite different. Although there was increasing awareness of the importance of sound insulation in the beginning of the twentieth century, the theoretical models and calculation methods available then were very simple and insufficient.\n",
    "Sabine (1915) described three cases where he had tried to design for good sound insulation but, to his frustration, the results did not meet his expectations.\n",
    "Airborne sound insulation was measured with organ pipes as an extension of the method used for reverberation time. For laboratory measurements, a test wall was built between a large reverberant room and a smaller receiving room with high acoustic damping. The reverberation method for sound insulation is described in detail by Paul E. Sabine (1930), who succeeded Wallace C.\n",
    "Barkhausen (1926) developed an instrument for measuring the loudness level in phon. The operator listened to the noise with one ear and adjusted the level of a 1000 Hz test sound heard in the other ear, to get equal loudness. Dr H. Reier from the technical university in Stuttgart used a very noisy rattle machine with a frequency range from 100 Hz to 2000 Hz. Vern O. Knudsen (1930) describes three measurement methods for airborne sound insulation, which he applied in the newly built acoustic test facilities at the University of California. One of them is Sabine’s reverberation method with loudspeakers as sound sources. The second method is the insertion loss, i.e., a measurement with and without the test panel. The third method uses an electric attenuator to adjust the level of the loudspeaker in the source room until the sound is inaudible. A few years later, a new test method was developed by Meyer and Keidel (1935) using a logarithmic attenuator and a voltage meter to draw a curve of the sound pressure level as a function of frequency. For the first time, it was possible to measure sound insulation without using the human ear as a measuring instrument.\n",
    "Another issue that would need attention was the impact sound from floors, especially footfall noise. An early method of measuring impact sound used the dropping of a steel ball from different heights above the floor; the height of fall that made the sound just audible in the receiving room was taken as a measure of the impact sound. Later, the tapping machine, as it is known today, was developed and the impact sound level of the tapping noise was measured as a loudness level in phon.\n",
    "Although the measuring methods for airborne and impact sound insulation had been developed, the physical and technical foundation for understanding sound insulation problems was still very poor. It was restricted to the mass law and the advantage of separated structures.\n",
    "A scientific approach to the physics of sound insulation began in 1942, when Lothar Cremer (1905–1990) explained the importance of bending waves and introduced the concept of coincidence in sound transmission in his pioneering article (Cremer, 1942). Albert London (1950) was the first to present a theoretical model for sound transmission through double walls.\n",
    "Today, there is no doubt that bending waves, the coincidence effect and the critical frequency are key points in understanding sound insulation. However, the knowledge of Cremer’s findings spread very slowly and did not reach the majority of those working with building acoustics until several decades later. Looking into the textbooks by Brüel (1946), Ingerslev (1949) and Knudsen and Harris (1950), the coincidence effect is not even mentioned.\n",
    "The introduction of concrete slabs with thickness of only 80 mm to 100 mm caused severe noise problems in houses. It became very clear that dimensions determined solely from the point of view of structural engineering were not sufficient from an acoustical point of view.\n",
    "Several countries introduced minimum requirements for sound insulation between dwellings in the 1940s or 1950s, and these first requirements were typically in terms of specific acceptable constructions, e.g. a 250 mm full-brick wall with plaster on both sides. The industrialised building technology, which started in the 1960s, and the extensive use of reinforced concrete led to buildings that were uniform and relatively cheap, but not particularly satisfactory for the inhabitants.\n",
    "These houses became synonymous with noise problems and still today, concrete as a building material is often believed by the layman to cause poor sound insulation. The introduction of building codes with minimum requirements for sound insulation had some negative effects; building apartment houses was a matter of money investment, and thus, it was important to keep the building costs low.\n",
    "New building technologies, new powerful sound sources in homes (hi-fi loudspeakers, home cinemas with subwoofers, etc.) and increased awareness of noise in the society have all contributed to the development of better sound insulation design. An important part of this development is the acousticians’ understanding of the physical principles in sound insulation.\n",
    "Another important part of the development is the knowledge about how individuals react to noise from neighbours, and how the sound insulation of a building is related to the degree of satisfaction that can be expected among the inhabitants. In recent years, this has led to raised minimum requirements for sound insulation in many countries.\n",
    "The idea of a sound classification system for houses, with specified sound classes better than the minimum requirements, has aroused interest, and an international standard for sound classification of houses is under preparation (ISO/DIS 19488, 2017). A major problem may be to have a general acceptance among architects and in the building industry that sound insulation is a design parameter that must be taken seriously."
   ]
  },
  {
   "cell_type": "markdown",
   "metadata": {},
   "source": [
    "## Basic Concepts and Terms in Acoustics"
   ]
  },
  {
   "cell_type": "markdown",
   "metadata": {},
   "source": [
    "This section summarizes the most important basic concepts used in building acoustics. The definitions and symbols are in accordance with International Organization for Standardization (ISO) technical report (TR) 25417."
   ]
  },
  {
   "cell_type": "markdown",
   "metadata": {},
   "source": [
    "### 1. INTRODUCTION"
   ]
  },
  {
   "cell_type": "markdown",
   "metadata": {},
   "source": [
    "The sound insulation of walls and floors in a building is often of major concern for the people using the building. It is of special interest in residential buildings, but also in, e.g. offices, hospitals and school buildings.\n",
    "Noise sources have become louder and cover a broader frequency spectrum, and it is possible that the demands of the tenants have increased.\n",
    "The basic knowledge of sound insulation is also important in other branches of acoustics, e.g. in the development of vehicles, ships and aeroplanes.\n",
    "Sound insulation is divided into:\n",
    "1. Airborne sound insulation, where the noise source is in the air inside or outside the building, and\n",
    "2. Structure-borne sound insulation, where the noise source is located at a building structure.\n",
    "The most important case of structure-borne sound insulation is the impact noise sound insulation, which includes noise generated by people walking.\n",
    "\n",
    "Airborne noise sources in a building are typically people talking, sound from stereo equipment, televisions and musical instruments. It is recommended to use a broader frequency spectrum (50 Hz to 5000 Hz) than is used in the original measurement description (100 Hz to 3150 Hz), and sometimes it is also important to perform a subjective evaluation of the noise situation in more experimental buildings. Examples of external airborne noise sources are traffic and industrial noise, where the windows of a building are of major interest."
   ]
  },
  {
   "cell_type": "markdown",
   "metadata": {},
   "source": [
    "### 2. THE DECIBEL SCALE"
   ]
  },
  {
   "cell_type": "markdown",
   "metadata": {},
   "source": [
    "Sound is an audible vibration, either in the air or in liquids or solid materials. The human ear is sensible to the pressure variations in a sound wave, and since the audible dynamic range is immense, the logarithmic decibel scale is used. The sound pressure level $L_p$ is\n",
    "\n",
    "$L_P=10\\lg(\\frac{p^2}{p^2_{ref}})$ (dB)\n",
    "\n",
    "where $p_{ref}=20$  $\\mu Pa$ is the reference sound pressure\n",
    "\n"
   ]
  },
  {
   "cell_type": "markdown",
   "metadata": {},
   "source": [
    "The sound pressure is the root-mean-square (RMS) value of the time-varying sound pressure. In rough terms, the range of audible sound is 0 dB to 120 dB."
   ]
  },
  {
   "cell_type": "markdown",
   "metadata": {},
   "source": [
    "A sound source is characterized by its emitted sound power, which can also be expressed in decibels. If P is the sound power in watts, the sound power level is"
   ]
  },
  {
   "cell_type": "markdown",
   "metadata": {},
   "source": [
    "$L_W=10\\lg(\\frac{P}{P_{ref}})$ (dB)"
   ]
  },
  {
   "cell_type": "markdown",
   "metadata": {},
   "source": [
    "where $P_ref=10^{-12}$, Watts is the reference sound power."
   ]
  },
  {
   "cell_type": "markdown",
   "metadata": {},
   "source": [
    "##### Interactive Example"
   ]
  },
  {
   "cell_type": "markdown",
   "metadata": {},
   "source": []
  },
  {
   "cell_type": "markdown",
   "metadata": {},
   "source": [
    "### 3. FREQUENCY AND RELATED CONCEPTS"
   ]
  },
  {
   "cell_type": "markdown",
   "metadata": {},
   "source": [
    "##### Speed of sound"
   ]
  },
  {
   "cell_type": "markdown",
   "metadata": {},
   "source": [
    "The speed of sound is the distance travelled by sound per unit time. It is found as the distance travelled during one period (one wavelength _λ_ ) multiplied by the number of periods per second (the frequency _f_ ):"
   ]
  },
  {
   "cell_type": "markdown",
   "metadata": {},
   "source": [
    "$c=\\lambda f$ (m/s)"
   ]
  },
  {
   "cell_type": "markdown",
   "metadata": {},
   "source": [
    "##### Frequency bands"
   ]
  },
  {
   "cell_type": "markdown",
   "metadata": {},
   "source": [
    "Acoustic measurements are usually made in frequency bands. The bandwidth _Δf_ is the difference between the upper and lower limiting frequencies:"
   ]
  },
  {
   "cell_type": "markdown",
   "metadata": {},
   "source": [
    "$\\Delta f=f_2−f_1$ (Hz)"
   ]
  },
  {
   "cell_type": "markdown",
   "metadata": {},
   "source": [
    "The centre frequency is the geometrical mean of the limiting frequencies:"
   ]
  },
  {
   "cell_type": "markdown",
   "metadata": {},
   "source": [
    "$f_{center}=\\sqrt{f_1 f_2} $"
   ]
  },
  {
   "cell_type": "markdown",
   "metadata": {},
   "source": [
    "The relative bandwidth is the ratio between the bandwidth and the centre frequency:"
   ]
  },
  {
   "cell_type": "markdown",
   "metadata": {},
   "source": [
    "$\\frac{\\Delta f}{f_{center}}=\\sqrt{\\frac{f_2}{f_1}}-\\sqrt{\\frac{f_1}{f_2}}$"
   ]
  },
  {
   "cell_type": "markdown",
   "metadata": {},
   "source": [
    "In building acoustics, the most often used frequency bands are one-third octave bands:"
   ]
  },
  {
   "cell_type": "markdown",
   "metadata": {},
   "source": [
    "$\\frac{f_2}{f_1}=10^{\\frac{1}{10}}=0.23f_{center}$"
   ]
  },
  {
   "cell_type": "markdown",
   "metadata": {},
   "source": [
    "### 4. LOUDNESS LEVEL AND A-WEIGHTED SOUND PRESSURE LEVEL"
   ]
  },
  {
   "cell_type": "markdown",
   "metadata": {},
   "source": [
    "The subjective loudness of a low-frequency sound (e.g. below _200_ _Hz_) is much lower than a sound with the same physical sound pressure level in the frequency range of _1_ _kHz_ to _5_ _kHz_. The loudness level of a sound is defined as the sound pressure level of a 1000 Hz tone that has the same loudness as the sound. The unit of the loudness level is phon. [1]\n",
    "In building acoustics, it is usual that sound is measured in one-third octave bands because transmission properties are very frequency dependent. However, it is practical to express the sound level as a single-number value, and the commonly used value is the A-weighted sound pressure level. A-weighting applies a frequency-dependent attenuation, which is in the A-weighting filter in a sound level meter.\n",
    "The A-weighted sound pressure level can also be calculated from measured sound pressure levels in one-third octave bands Lp,i using the following equation:"
   ]
  },
  {
   "cell_type": "markdown",
   "metadata": {},
   "source": [
    "#### Solution"
   ]
  },
  {
   "cell_type": "markdown",
   "metadata": {},
   "source": []
  }
 ],
 "metadata": {
  "kernelspec": {
   "display_name": "venv",
   "language": "python",
   "name": "python3"
  },
  "language_info": {
   "codemirror_mode": {
    "name": "ipython",
    "version": 3
   },
   "file_extension": ".py",
   "mimetype": "text/x-python",
   "name": "python",
   "nbconvert_exporter": "python",
   "pygments_lexer": "ipython3",
   "version": "3.9.13"
  },
  "orig_nbformat": 4,
  "vscode": {
   "interpreter": {
    "hash": "ad60b23d73c1b1dd74bf15a5554c6fb7f9568e4aba042b9d5f1d554c7a6a3796"
   }
  }
 },
 "nbformat": 4,
 "nbformat_minor": 2
}
