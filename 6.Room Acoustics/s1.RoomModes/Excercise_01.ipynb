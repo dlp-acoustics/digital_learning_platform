{
 "cells": [
  {
   "attachments": {},
   "cell_type": "markdown",
   "metadata": {},
   "source": [
    "# Chapter 7: Building Acoustics\n",
    "## Excercise 01"
   ]
  },
  {
   "attachments": {},
   "cell_type": "markdown",
   "metadata": {},
   "source": [
    "### Question: 01"
   ]
  },
  {
   "attachments": {},
   "cell_type": "markdown",
   "metadata": {},
   "source": [
    "Below is an Example to see how Schroeder Frequency changes over changes in room dimensions and the absorption properties of the materials\n",
    "We can interactively change the room dimension such as Length, Width and Height, and the overall total absorption of the the room elements"
   ]
  },
  {
   "cell_type": "code",
   "execution_count": 1,
   "metadata": {},
   "outputs": [],
   "source": [
    "import ipywidgets as widgets\n",
    "import numpy as np\n",
    "import matplotlib as plt"
   ]
  },
  {
   "attachments": {},
   "cell_type": "markdown",
   "metadata": {},
   "source": [
    "Schroeder Frequency:"
   ]
  },
  {
   "cell_type": "code",
   "execution_count": 2,
   "metadata": {},
   "outputs": [
    {
     "data": {
      "application/vnd.jupyter.widget-view+json": {
       "model_id": "3c1505a3fc0447b0aff0aa78e87e84d8",
       "version_major": 2,
       "version_minor": 0
      },
      "text/plain": [
       "interactive(children=(IntSlider(value=5, description='Length', max=10), IntSlider(value=5, description='Width'…"
      ]
     },
     "metadata": {},
     "output_type": "display_data"
    }
   ],
   "source": [
    "@widgets.interact(Length = (0,10), Width = (0,10), Height = (0,10), Absorption = (0.0001,0.9999))\n",
    "def Schroeder_Frequency(Length,Width,Height,Absorption):\n",
    "    Surface_area = 2*(Length*Width)+2*(Length*Height)+2*(Height*Width)\n",
    "    Volume = Length*Width*Height\n",
    "    Equ_Absorption = Surface_area*Absorption\n",
    "    Reverberation_time = 0.049*(Volume/Equ_Absorption)\n",
    "    print('Schroeder Frequency   =    ', int(2000*np.sqrt(Reverberation_time/Volume)))\n",
    "    print('Reverberation Time    =    ', Reverberation_time)"
   ]
  },
  {
   "attachments": {},
   "cell_type": "markdown",
   "metadata": {},
   "source": [
    "The Lowest Axial Eigenfrequency:"
   ]
  }
 ],
 "metadata": {
  "kernelspec": {
   "display_name": "dlp",
   "language": "python",
   "name": "python3"
  },
  "language_info": {
   "codemirror_mode": {
    "name": "ipython",
    "version": 3
   },
   "file_extension": ".py",
   "mimetype": "text/x-python",
   "name": "python",
   "nbconvert_exporter": "python",
   "pygments_lexer": "ipython3",
   "version": "3.10.8"
  },
  "orig_nbformat": 4,
  "vscode": {
   "interpreter": {
    "hash": "c268bdd13dd0a3dc3fda71f5ee3a9d4f00ef0f3c1e6002ddfe4964e62f253ef3"
   }
  }
 },
 "nbformat": 4,
 "nbformat_minor": 2
}
