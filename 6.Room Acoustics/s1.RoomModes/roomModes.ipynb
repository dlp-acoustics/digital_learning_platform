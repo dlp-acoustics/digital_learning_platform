{
 "cells": [
  {
   "attachments": {},
   "cell_type": "markdown",
   "metadata": {},
   "source": [
    "# Chapter 7: Room Acoustics\n",
    "## Introduction"
   ]
  },
  {
   "attachments": {},
   "cell_type": "markdown",
   "metadata": {},
   "source": [
    "## Sound in closed spaces"
   ]
  },
  {
   "attachments": {},
   "cell_type": "markdown",
   "metadata": {},
   "source": [
    "### 1. Normal modes in a one-dimensional space"
   ]
  },
  {
   "attachments": {},
   "cell_type": "markdown",
   "metadata": {},
   "source": [
    "Before we discuss the advances in room modes, we start with  one dimensional enclosures, such as, a pipe of finite length with rigid walls. The assumptio we made for such one dimension case is that the lateral dimensions are small enough to guarantee that in the frequency range considered only the fundamental wave can exists and any loss processes as may occur in the medium and at the walls [1].\n",
    "Let us consider a one dimension pipe along x-axis and both the end of the pipe are closed with a rigid plate or lid. Any harmonic sound field within the pipe consists of a standing wave with maximum pressure amplitude occurring at its terminations. This is only possible if an integral number of half-wavelengths fits into the tube length L as shown in the figure below."
   ]
  },
  {
   "attachments": {},
   "cell_type": "markdown",
   "metadata": {},
   "source": [
    "__Figure 1: Normal modes in a rigid tube of finite length__"
   ]
  },
  {
   "attachments": {},
   "cell_type": "markdown",
   "metadata": {},
   "source": [
    "*Case 1: Rigid termination at both ends*\n",
    "\n",
    "![alternatvie text](..\\images\\Fig-1-1.png)"
   ]
  },
  {
   "attachments": {},
   "cell_type": "markdown",
   "metadata": {},
   "source": [
    "*Case 2: Open at both ends*\n",
    "\n",
    "![alternatvie text](..\\images\\Fig-1-2.png)"
   ]
  },
  {
   "attachments": {},
   "cell_type": "markdown",
   "metadata": {},
   "source": [
    "*Case 3: One end rigidly terminated, the other one is open*\n",
    "\n",
    "![alternatvie text](..\\images\\Fig-1-3.png)"
   ]
  },
  {
   "attachments": {},
   "cell_type": "markdown",
   "metadata": {},
   "source": [
    "##### Case 1: Both ends of the pipe are closed\n",
    "Let take the case where both ends of the pipe are closed with a rigid plate or lid. Any harmonic sound field within the pipe consists of a standing wave with maximum pressure amplitude occurring at its terminations. This is only possible if an integral number of half-wavelengths fits into the tube length L (**Fig 1: Case 1**). Under such conditions the allowed frequencies which are called \"Eigenfrequencies\" are thus given as\n",
    "|  |  |\n",
    "| --- | --- |\n",
    "| $f_n = n\\frac{c}{2L}$ | **[1]** |\n",
    "\n",
    "where ($n = 0,1,2,3,...$)"
   ]
  },
  {
   "attachments": {},
   "cell_type": "markdown",
   "metadata": {},
   "source": [
    "The standing wave associated with a particular eigenfrequency is given by the following Equation\n",
    "| | |\n",
    "|---|---|\n",
    "|$p_n(x,t)=\\hat{p}\\cos(\\frac{n\\pi x}{L})e^{j2\\pi f_n t}$| **[2]**|"
   ]
  },
  {
   "attachments": {},
   "cell_type": "markdown",
   "metadata": {},
   "source": [
    "##### Case 2: Open ends of the pipe\n",
    "Let's assume that the pipe is terminated with zero impedance at both its ends which is leaving the pipe open at both ends. Again, the sound field with harmonic pressure variation consists of a standing wave, but now the pressure amplitude at $x=0$ and $x=L$ must be zero.\n",
    "As with rigid terminations, this is achieved when the pipe length equals an integral number of halfwavelengths, hence the eigenfrequencies of the pipe are given by **Eq [1]** as before.\n",
    "Now the distribution of sound pressure amplitudes is different in that the cosine in **Eq [2]** is replaced with a sine function with the same argument. Obviously, no sound field can exist for $n=0$, in contrast to the case 1."
   ]
  },
  {
   "attachments": {},
   "cell_type": "markdown",
   "metadata": {},
   "source": [
    "##### Interactive example to calculate eigenfrequencies (Case1 and Case 2)\n",
    "In the example below keep the pipe length and speed of sound constant and change the values of n (integer) to see the first, second and so on eigen frequencies associated with the pipe of fixed length.\n",
    "Repeate above procedure with different pipe length to see how the associated eigen frequencies varies with pipe length"
   ]
  },
  {
   "cell_type": "code",
   "execution_count": 14,
   "metadata": {},
   "outputs": [
    {
     "data": {
      "application/vnd.jupyter.widget-view+json": {
       "model_id": "0473c423536548faabd517a51c949f6d",
       "version_major": 2,
       "version_minor": 0
      },
      "text/plain": [
       "interactive(children=(IntSlider(value=10, description='Length', max=20, min=1), IntSlider(value=50, descriptio…"
      ]
     },
     "metadata": {},
     "output_type": "display_data"
    }
   ],
   "source": [
    "import ipywidgets as widgets\n",
    "import numpy as np\n",
    "import matplotlib as plt\n",
    "#\n",
    "@widgets.interact(Integral = (0,100), soundSpeed = (330,350), Length = (1,20))\n",
    "def eigenFrequency(Length,Integral,soundSpeed):\n",
    "    print('Eigenfrequency    =    ', Integral*(soundSpeed/(2*Length)),    \"(Hz)\")"
   ]
  },
  {
   "attachments": {},
   "cell_type": "markdown",
   "metadata": {},
   "source": [
    "##### Case 3: Open end at one side of the pipe\n",
    "In case 3, we consider a pipe with one open end at $x=L$ while the other end at $x=0$ is terminated with a rigid cap (**Fig 1: Case 3**). Since the resulting standing wave has a pressure maximum at its left side and a pressure node at the right end, the pipe length must be equal to an integral number of half-wavelengths plus one quarter-wavelength or in other words, to an odd multiple of a quarter-wavelength, which follows the Equation.\n",
    "| | |\n",
    "|---|---|\n",
    "|$f_n = (2n-1)\\frac{c}{4L}$|**[3]**|\n",
    "\n",
    "where ($n = 0,1,2,3,...$)  \n",
    "Again, the eigenfrequencies are equidistant along the frequency axis; however, the lowest one is only half as high as that of a pipe with equal terminations. Now the sound pressure is represented by\n",
    "| | |\n",
    "|---|---|\n",
    "|$p_n(x,t) = \\hat{p}\\cos[(n-\\frac{1}{2})\\frac{\\pi x}{L}]e^{j2\\pi f_n t}$|**[4]**|\n"
   ]
  },
  {
   "attachments": {},
   "cell_type": "markdown",
   "metadata": {},
   "source": [
    "##### Interactive example to calculate eigenfrequencies (Case 3)\n",
    "In the example below keep the pipe length and speed of sound constant and change the values of n (integer) to see the first, second and so on eigen frequencies associated with the pipe of fixed length.\n",
    "Repeate above procedure with different pipe length to see how the associated eigen frequencies varies with pipe length"
   ]
  },
  {
   "cell_type": "code",
   "execution_count": 13,
   "metadata": {},
   "outputs": [
    {
     "data": {
      "application/vnd.jupyter.widget-view+json": {
       "model_id": "b7815e8644514fadb7f1f3d7639c34a8",
       "version_major": 2,
       "version_minor": 0
      },
      "text/plain": [
       "interactive(children=(IntSlider(value=10, description='Length', max=20, min=1), IntSlider(value=50, descriptio…"
      ]
     },
     "metadata": {},
     "output_type": "display_data"
    }
   ],
   "source": [
    "@widgets.interact(Integral = (0,100), soundSpeed = (330,350), Length = (1,20))\n",
    "def eigenFrequency(Length,Integral,soundSpeed):\n",
    "    print('Eigenfrequency    =    ', (2*Integral-1)*(soundSpeed/(4*Length)),    \"(Hz)\")"
   ]
  },
  {
   "attachments": {},
   "cell_type": "markdown",
   "metadata": {},
   "source": [
    "### 2. Normal modes in a rectangular room with rigid walls"
   ]
  },
  {
   "cell_type": "markdown",
   "metadata": {},
   "source": []
  },
  {
   "attachments": {},
   "cell_type": "markdown",
   "metadata": {},
   "source": [
    "### References"
   ]
  },
  {
   "attachments": {},
   "cell_type": "markdown",
   "metadata": {},
   "source": [
    "1. Kuttruff, Acoustics: An Introduction; Taylor and Francis , 2007"
   ]
  }
 ],
 "metadata": {
  "kernelspec": {
   "display_name": "dlp",
   "language": "python",
   "name": "python3"
  },
  "language_info": {
   "codemirror_mode": {
    "name": "ipython",
    "version": 3
   },
   "file_extension": ".py",
   "mimetype": "text/x-python",
   "name": "python",
   "nbconvert_exporter": "python",
   "pygments_lexer": "ipython3",
   "version": "3.10.8"
  },
  "orig_nbformat": 4,
  "vscode": {
   "interpreter": {
    "hash": "c268bdd13dd0a3dc3fda71f5ee3a9d4f00ef0f3c1e6002ddfe4964e62f253ef3"
   }
  }
 },
 "nbformat": 4,
 "nbformat_minor": 2
}
