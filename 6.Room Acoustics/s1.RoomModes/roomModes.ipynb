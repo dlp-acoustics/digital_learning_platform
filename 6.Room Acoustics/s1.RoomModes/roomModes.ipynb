{
 "cells": [
  {
   "attachments": {},
   "cell_type": "markdown",
   "metadata": {},
   "source": [
    "# Chapter 7: Room Acoustics\n",
    "## Room Modes"
   ]
  },
  {
   "attachments": {},
   "cell_type": "markdown",
   "metadata": {},
   "source": [
    "### 1. Normal modes in a one-dimensional space"
   ]
  },
  {
   "attachments": {},
   "cell_type": "markdown",
   "metadata": {},
   "source": [
    "Before we discuss the advances in room modes, we start with  one dimensional enclosures, such as, a pipe of finite length with rigid walls. The assumptio we made for such one dimension case is that the lateral dimensions are small enough to guarantee that in the frequency range considered only the fundamental wave can exists and any loss processes as may occur in the medium and at the walls [1].\n",
    "Let us consider a one dimension pipe along x-axis and both the end of the pipe are closed with a rigid plate or lid. Any harmonic sound field within the pipe consists of a standing wave with maximum pressure amplitude occurring at its terminations. This is only possible if an integral number of half-wavelengths fits into the tube length L as shown in the figure below."
   ]
  },
  {
   "attachments": {},
   "cell_type": "markdown",
   "metadata": {},
   "source": [
    "__Figure 1: Normal modes in a rigid tube of finite length__"
   ]
  },
  {
   "attachments": {},
   "cell_type": "markdown",
   "metadata": {},
   "source": [
    "*Case 1: Rigid termination at both ends*\n",
    "\n",
    "![alternatvie text](..\\images\\Fig-1-1.png)"
   ]
  },
  {
   "attachments": {},
   "cell_type": "markdown",
   "metadata": {},
   "source": [
    "*Case 2: Open at both ends*\n",
    "\n",
    "![alternatvie text](..\\images\\Fig-1-2.png)"
   ]
  },
  {
   "attachments": {},
   "cell_type": "markdown",
   "metadata": {},
   "source": [
    "*Case 3: One end rigidly terminated, the other one is open*\n",
    "\n",
    "![alternatvie text](..\\images\\Fig-1-3.png)"
   ]
  },
  {
   "attachments": {},
   "cell_type": "markdown",
   "metadata": {},
   "source": [
    "##### Case 1: Both ends of the pipe are closed\n",
    "Let take the case where both ends of the pipe are closed with a rigid plate or lid. Any harmonic sound field within the pipe consists of a standing wave with maximum pressure amplitude occurring at its terminations. This is only possible if an integral number of half-wavelengths fits into the tube length L (**Fig 1: Case 1**). Under such conditions the allowed frequencies which are called \"Eigenfrequencies\" are thus given as\n",
    "|  |  |\n",
    "| --- | --- |\n",
    "| $f_n = n\\frac{c}{2L}$ | **[1]** |\n",
    "\n",
    "where ($n = 0,1,2,3,...$)"
   ]
  },
  {
   "attachments": {},
   "cell_type": "markdown",
   "metadata": {},
   "source": [
    "The standing wave associated with a particular eigenfrequency is given by the following Equation\n",
    "| | |\n",
    "|---|---|\n",
    "|$p_n(x,t)=\\hat{p}\\cos(\\frac{n\\pi x}{L})e^{j2\\pi f_n t}$| **[2]**|"
   ]
  },
  {
   "attachments": {},
   "cell_type": "markdown",
   "metadata": {},
   "source": [
    "##### Case 2: Open ends of the pipe\n",
    "Let's assume that the pipe is terminated with zero impedance at both its ends which is leaving the pipe open at both ends. Again, the sound field with harmonic pressure variation consists of a standing wave, but now the pressure amplitude at $x=0$ and $x=L$ must be zero.\n",
    "As with rigid terminations, this is achieved when the pipe length equals an integral number of halfwavelengths, hence the eigenfrequencies of the pipe are given by **Eq [1]** as before.\n",
    "Now the distribution of sound pressure amplitudes is different in that the cosine in **Eq [2]** is replaced with a sine function with the same argument. Obviously, no sound field can exist for $n=0$, in contrast to the case 1."
   ]
  },
  {
   "attachments": {},
   "cell_type": "markdown",
   "metadata": {},
   "source": [
    "##### Interactive example to calculate eigenfrequencies (Case1 and Case 2)\n",
    "In the example below keep the pipe length and speed of sound constant and change the values of n (integer) to see the first, second and so on eigen frequencies associated with the pipe of fixed length.\n",
    "Repeate above procedure with different pipe length to see how the associated eigen frequencies varies with pipe length"
   ]
  },
  {
   "cell_type": "code",
   "execution_count": 4,
   "metadata": {},
   "outputs": [
    {
     "data": {
      "application/vnd.jupyter.widget-view+json": {
       "model_id": "4a05866f805c4f7aab56c5e3130584e7",
       "version_major": 2,
       "version_minor": 0
      },
      "text/plain": [
       "interactive(children=(IntSlider(value=10, description='Length', max=20, min=1), IntSlider(value=50, descriptio…"
      ]
     },
     "metadata": {},
     "output_type": "display_data"
    }
   ],
   "source": [
    "import ipywidgets as widgets\n",
    "import numpy as np\n",
    "\n",
    "@widgets.interact(Integral = (0,100), soundSpeed = (330,350), Length = (1,20))\n",
    "def eigenFrequency(Length,Integral,soundSpeed):\n",
    "    print('Eigenfrequency    =    ', Integral*(soundSpeed/(2*Length)),    \"(Hz)\")"
   ]
  },
  {
   "attachments": {},
   "cell_type": "markdown",
   "metadata": {},
   "source": [
    "##### Case 3: Open end at one side of the pipe\n",
    "In case 3, we consider a pipe with one open end at $x=L$ while the other end at $x=0$ is terminated with a rigid cap (**Fig 1: Case 3**). Since the resulting standing wave has a pressure maximum at its left side and a pressure node at the right end, the pipe length must be equal to an integral number of half-wavelengths plus one quarter-wavelength or in other words, to an odd multiple of a quarter-wavelength, which follows the Equation.\n",
    "| | |\n",
    "|---|---|\n",
    "|$f_n = (2n-1)\\frac{c}{4L}$|**[3]**|\n",
    "\n",
    "where ($n = 0,1,2,3,...$)  \n",
    "Again, the eigenfrequencies are equidistant along the frequency axis; however, the lowest one is only half as high as that of a pipe with equal terminations. Now the sound pressure is represented by\n",
    "| | |\n",
    "|---|---|\n",
    "|$p_n(x,t) = \\hat{p}\\cos[(n-\\frac{1}{2})\\frac{\\pi x}{L}]e^{j2\\pi f_n t}$|**[4]**|\n"
   ]
  },
  {
   "attachments": {},
   "cell_type": "markdown",
   "metadata": {},
   "source": [
    "##### Interactive example to calculate eigenfrequencies (Case 3)\n",
    "In the example below keep the pipe length and speed of sound constant and change the values of n (integer) to see the first, second and so on eigen frequencies associated with the pipe of fixed length.\n",
    "Repeate above procedure with different pipe length to see how the associated eigen frequencies varies with pipe length"
   ]
  },
  {
   "cell_type": "code",
   "execution_count": 5,
   "metadata": {},
   "outputs": [
    {
     "data": {
      "application/vnd.jupyter.widget-view+json": {
       "model_id": "cae7d72831c140e685f05c24c2c6b036",
       "version_major": 2,
       "version_minor": 0
      },
      "text/plain": [
       "interactive(children=(IntSlider(value=10, description='Length', max=20, min=1), IntSlider(value=50, descriptio…"
      ]
     },
     "metadata": {},
     "output_type": "display_data"
    }
   ],
   "source": [
    "@widgets.interact(Integral = (0,100), soundSpeed = (330,350), Length = (1,20))\n",
    "def eigenFrequency(Length,Integral,soundSpeed):\n",
    "    eigenfrequency = (2*Integral-1)*(soundSpeed/(4*Length))\n",
    "    print('Eigenfrequency    =    ', eigenfrequency,    \"(Hz)\")"
   ]
  },
  {
   "attachments": {},
   "cell_type": "markdown",
   "metadata": {},
   "source": [
    "### 2. Normal modes in a rectangular room with rigid walls"
   ]
  },
  {
   "attachments": {},
   "cell_type": "markdown",
   "metadata": {},
   "source": [
    "Now we can proceed to find the eigenfrequencies and normal modes of a rectangular room with the dimensions $L_x$, $L_y$ and $L_z$ all walls of which are rigid (**Fig 3**). Hence higher order wave types propagate in this room each of them characterised by two integers $m$ and $n$.\n",
    "The angular wavenumber $k^{''}$ of any such wave type is given as\n",
    "\n",
    "$k^{''}=\\frac{\\omega}{c}\\sqrt{1-(\\frac{\\omega_{mn}}{\\omega})^2}$, and\n",
    "\n",
    "$\\omega_{mn}=\\sqrt{(\\frac{m\\pi c}{L_y})^2+(\\frac{n\\pi c}{L_y})^2}$\n",
    "\n",
    "The wavelength associated with it is $\\lambda^{''}=\\frac{2\\pi}{k^{''}}$. The requirement that an integral number of half-wavelengths fit into the length $L_x$ of the channel is equivalent to $L_x=l(\\frac{\\pi}{k^{''}})$ with $l=0,1,2,$ etc.\n",
    "\n",
    "Hence the allowed frequencies are given as\n",
    "| | |\n",
    "|----|----|\n",
    "|$f_{lmn}=\\frac{c}{2}\\sqrt{(\\frac{l}{L_x})^2+(\\frac{m}{L_y})^2+(\\frac{n}{L_z})^2}$| **[5]**\n",
    "\n",
    "In this rectangular room the amplitudes are no longer independent of the &y& and $z$ but shows a lateral distribution. Hence the sound pressure of a normal mode marked by the integers $l$, $m$ and $n$ is given as\n",
    "\n",
    "| | |\n",
    "|---|---|\n",
    "| $p_{lmn}(x,y,z,t)=\\hat{p}cos(\\frac{l\\pi x}{L_x})cos(\\frac{m\\pi y}{L_y})cos(\\frac{n\\pi z}{L_z}).e^{j2\\pi f_{lmn}t}$ | **[6]** |\n",
    "\n",
    "A given mode has $l$ nodal planes perpendicular to the x-axis, $m$ nodal planes perpendicular to the y-axis and $n$ nodal planes perpendicular to the z-axis. Along these planes the sound pressure is always zero."
   ]
  },
  {
   "attachments": {},
   "cell_type": "markdown",
   "metadata": {},
   "source": [
    "##### Examples of Axial, Tangential and Obligue Modes\n",
    "![alternatvie text](..\\images\\Fig-3.png)"
   ]
  },
  {
   "attachments": {},
   "cell_type": "markdown",
   "metadata": {},
   "source": [
    "#### The Schroeder limiting frequency\n",
    "Due to the high number of modes in a room at high frequencies and in order to avoid too complicated methods, it is necessary to apply statistical considerations, e.g. to assume the same energy in all modes within a certain frequency band. As a minimum requirement, it has been suggested by Schroeder (1962) that the modal overlap should be $M=3$, although this cannot be considered a very sharp borderline. This leads to a lower limiting frequency for statistical methods, the so-called ***Schroeder’s limiting frequency***, $f_g$, given as,\n",
    "\n",
    "| | |\n",
    "|---|---|\n",
    "| $f_g=2000\\sqrt{\\frac{T}{V}}$ | **[7]** |\n",
    "\n",
    "Where $T$ is the reverberation time (in sec) and $V$ is the volume (in $m^3$).\n",
    "\n",
    "As an example, a room with volume $125 m^3$ and reverberation time $0.2 s$, has a limiting frequency of $f_g=79$ Hz. Thus, below this frequency, a weak coupling between the room modes can be assumed, or in other words the sound field below $79$ Hz may be dominated by single room modes.  \n",
    "You can also vary the room dimension to see the increase/decrease of the $f_g$ with change in vloume or by changing the absorption (i.e. the reverberation)."
   ]
  },
  {
   "cell_type": "code",
   "execution_count": 6,
   "metadata": {},
   "outputs": [
    {
     "data": {
      "application/vnd.jupyter.widget-view+json": {
       "model_id": "e3f781891eb9414f91f3e7c21e5c364f",
       "version_major": 2,
       "version_minor": 0
      },
      "text/plain": [
       "interactive(children=(IntSlider(value=5, description='Length', max=10, min=1), IntSlider(value=5, description=…"
      ]
     },
     "metadata": {},
     "output_type": "display_data"
    }
   ],
   "source": [
    "@widgets.interact(Length = (1,10), Width = (1,10), Height = (1,10), Absorption = (0.01,0.4))\n",
    "def Schroeder_Frequency(Length,Width,Height,Absorption):\n",
    "    Surface_area = 2*(Length*Width)+2*(Length*Height)+2*(Height*Width)\n",
    "    Volume = Length*Width*Height\n",
    "    Equ_Absorption = Surface_area*Absorption\n",
    "    Reverberation_time = 0.049*(Volume/Equ_Absorption)\n",
    "    print('Volume                =    ', Volume)\n",
    "    print('Schroeder Frequency   =    ', int(2000*np.sqrt(Reverberation_time/Volume)))\n",
    "    print('Reverberation Time    =    ', Reverberation_time)"
   ]
  },
  {
   "attachments": {},
   "cell_type": "markdown",
   "metadata": {},
   "source": [
    "### 3. Modal Density"
   ]
  },
  {
   "attachments": {},
   "cell_type": "markdown",
   "metadata": {},
   "source": [
    "A closer inspection of $Eq: 5$ shows that the natural frequencies of a rectangular room may be interpreted in a geometrical way. The room acoustics in small rooms consider places such as listening rooms, sound studios, recording studios, audiometry rooms is possible to transfer music and speech, to set sound assssment and perform measurements. In large rooms or halls there can be considered places such as concert halls, theaters, auditoriums, lecture halls.\n",
    "\n",
    "For large room condition the $Eq: 7$ is used to scimate the Schoder frequencz.\n",
    "\n",
    "For small rooms some expected values include:\n",
    "\n",
    "$V = 13000  m^2$\n",
    "\n",
    "$T = 2  s$\n",
    "\n",
    "$f_s = 25  Hz$\n",
    "\n",
    "For large rooms/halls:\n",
    "\n",
    "$V = 25  m^2$\n",
    "\n",
    "$T = 1  s$\n",
    "\n",
    "$f_s = 400  Hz$"
   ]
  },
  {
   "attachments": {},
   "cell_type": "markdown",
   "metadata": {},
   "source": [
    "### 4. Shapes and Dimension"
   ]
  },
  {
   "attachments": {},
   "cell_type": "markdown",
   "metadata": {},
   "source": [
    "By acousticas Designing the volume is an important value inside the dimensions parameters.\n",
    "\n",
    "A concert hall or a cinema are examples of hall function can be determined in $m^3/pp$\n",
    "By terms of the hall function, the number of people and the volume of the hall are important values.\n",
    "\n",
    "**Directivity:**\n",
    "\n",
    "Directivity is a measure of the directional characteristic of a sound source. It is often expressed as a Directivity Index in decibels, or as a dimensionless value of $Q$. This is an important aspect of a sound source, especially in a reverberant field.\n",
    "\n",
    "**Useful reflections:**\n",
    "\n",
    "Generally, our hearing does not perceive reflections with delays of less than about 50 ms as separate acoustical events. Instead, such reflections enhance the apparent loudness of the direct sound, therefore they are often referred to as ‘useful reflections’. The remaining reflections with longer delays are responsible for what is perceived as the reverberation of the room. The relative contribution of useful reflections may be characterised by several parameters derived from the impulse response. One of them is the ‘definition’ or ‘Deutlichkeit’ defined by:\n",
    "\n",
    "| | |\n",
    "|---|---|\n",
    "| $$D = \\frac{\\int_0^{50ms} [g(t)]^2 dt}{\\int_0^\\infty [g(t)]^2 dt} * 100 $$ | **[8]** |\n",
    "\n",
    "Now the clarity is used to characterise the transparency of musical presentations. Sometimes it happens that the impuse response o  room shows a pronounced peak occurring at a delay time exceeding $50 ms$.\n",
    "Such a peak is perceived as an echo. It can be caused by sound relection from a concavely curved wall or by accidental accumulation o many weaker reflections ith almost equal delays.\n",
    "\n",
    "\n",
    "Another feature of a reflection is the direction from which it arrives at the listener’s position. Usually, sound reflections do not impair a listener’s ability to localise a sound source in a room although most of the sound energy he receives arrives from other directions than from that of the direct sound. This interesting effect is due to the ‘law of the first wavefront’ mentioned by the end of the preceding chapter. It states that a listener localises the sound source from the direction of the direct sound. Nevertheless, the listener has a certain perception of the great variety of directions involved in the transmission of reflected sounds; it creates what may be called the subjective sensation of space, or the impression of being enveloped by sound.\n",
    "\n",
    "**Flutter echo's:**\n",
    "\n",
    "Flutter echo is an energy that’s trapped between two surfaces and the angle that the sound enters between the two surfaces. In our rooms this occurs between an energy-producing device (speaker) and a wall. The sound energy depending on its wavelength is trapped between two parallel surfaces. You get a series of reflections in short time signatures and then that translates into energy moving across the area between those surfaces. This energy movement excites the air between those two surfaces and with that air excitation you get audible distortion. This distortion can occur between walls, cabinets and bookshelves.\n",
    "\n",
    "**Focusing**\n",
    "\n",
    "The focusing refers to all the flutter echo that can be gathered at once at one point.\n",
    "\n",
    "\n",
    "![alternatvie text](..\\images\\Fig-7-0.png)\n"
   ]
  },
  {
   "attachments": {},
   "cell_type": "markdown",
   "metadata": {},
   "source": [
    "### 5. Direct Sound Field: Theoretical free field"
   ]
  },
  {
   "attachments": {},
   "cell_type": "markdown",
   "metadata": {},
   "source": [
    "**Direct Sound Field: Theoretical free field**\n",
    "\n",
    "A reverberation room is a special room with long reverberation time and a good diffusion. In such a room, the diffuse sound field is a good approxi\u0002mation, and the results for stationary conditions (Equation 9) and for sound decay (Equation 10) can be applied to measure the sound power of a sound source:\n",
    "\n",
    "| | |\n",
    "|---|---|\n",
    "| $$P_a = \\frac{P_s^2}{4 \\rho c} * \\frac{55.3V}{c\\Tau} $$ | **[9]** |\n",
    "\n",
    "The reverberation time and the average sound pressure level in the rever\u0002beration room are measured, and the sound power level is calculated from:\n",
    "\n",
    "| | |\n",
    "|---|---|\n",
    "| $$L_W = L_p + 10lg\\frac{p_ref^2 *55.3 * V}{P_ref * 4\\rho^2 * \\Tau} $$ | \n",
    "| $$ = L_p + 10lg\\frac{}{} - 10lg{\\Tau}{t_0} - 14 dV $$ | **[10]** |\n",
    "\n",
    "where $V_0 =1 m^3$ and $t_0 = 1s$.\n",
    "In most ordinary rooms, the diffuse sound field is not a good approxima\u0002tion. Each of the following conditions may indicate that the sound field is not diffuse:\n",
    "\n",
    "- An uneven distribution of sound absorption on the surfaces, e.g. only \n",
    "one surface is highly absorbing\n",
    "- A lack of diffusing or sound scattering elements (e.g. furniture) in the \n",
    "room\n",
    "- The ratio of longest to shortest room dimension is higher than three\n",
    "- The volume is very large, say more than $5000m^3$\n",
    "\n",
    "A rather simple modification to the stationary sound field is to separate the direct sound. The sound power radiated by an omnidirectional source is the sound intensity at the distance $r$ in a spherical sound field multiplied by the surface area of a sphere with radius $r$.\n",
    "\n",
    "| | |\n",
    "|---|---|\n",
    "| $$P_a = I_r * 4*\\pi * r^2 $$ | **[11]** |\n",
    "\n",
    "Thus, the sound pressure squared of direct sound in the distance r from the \n",
    "source is\n",
    "\n",
    "| | |\n",
    "|---|---|\n",
    "| $$P_dir^2 = \\frac{P_a}{4\\pi r^2} \\rho c $$ | **[12]** |\n",
    "\n",
    "The stationary sound is described by Equation 13:\n",
    "\n",
    "| | |\n",
    "|---|---|\n",
    "| $$P_s^2 = \\frac{4P_a}{A} \\rho c $$ | **[13]** |\n",
    "\n",
    "The reverberation distance $r_rev$ is defined as the distance where $p_{dir}^2 = p_s^2 $ when an omnidirectional point source is placed in a room. It is a descrip\u0002tor of the amount of absorption in a room since the reverberation distance depends only on the equivalent absorption area:\n",
    "\n",
    "| | |\n",
    "|---|---|\n",
    "| $$r_rev = \\sqrt{\\frac{A}{16\\pi}} = 0.14 \\sqrt{A} $$ | **[14]** |\n",
    "\n",
    "At a distance closer to the source than the reverberation distance, the direct sound field dominates, which is called the direct field. At longer distances, the reverberant sound field dominates, and in this so-called far field, the stationary, diffuse sound field may be a usable approximation. An expression for the combined direct and diffuse sound field can derived by the simple addition of the squared sound pressures of the two sound fields. However, since direct sound is treated separately, it should be \n",
    "extracted from the energy balance equation, which was used to describe the diffuse sound field. To do this, the sound power of the source should be reduced by a factor of $(1 −α_m)$, which is the fraction of the sound power emitted to the room after the first reflection. Hence, the squared sound pressure in the total sound field is:\n",
    "\n",
    "| | |\n",
    "|---|---|\n",
    "| $$p_{total}^2 = p_dir^2 + p_s^2 (1-\\alpha_m) = p_s^2(\\frac{r_{rev}^2}{r^2} + 1 - \\alpha_m) $$ |  |\n",
    "| $$p_{total}^2 = p_a \\rho c (\\frac{1}{4\\pi r^2} + \\frac{4}{A} (1-\\alpha_m)) $$ | **[15]** |\n",
    "\n",
    "The absorption area A divided by $(1−α_m)$ is sometimes called the room constant.\n",
    "Normal sound sources like a speaking person, a loudspeaker, or a musical \n",
    "instrument radiate sound with different intensities in different directions. \n",
    "The directivity factor $Q$ is the ratio of the intensity in a certain direction to the average intensity,\n",
    "\n",
    "| | |\n",
    "|---|---|\n",
    "| $$Q =I \\frac{4\\pi r^2}{P_a} $$ | **[16]** |\n",
    "\n",
    "Hence, the squared sound pressure of the direct sound is\n",
    "\n",
    "| | |\n",
    "|---|---|\n",
    "| $$P_{dir}^2 = \\frac{Q P_a}{4\\pi r^2} \\rho c $$ | **[17]** |\n",
    "\n",
    "This leads to a general formula for the sound pressure level as a function of the distance from a sound source in room.\n",
    "\n",
    "| | |\n",
    "|---|---|\n",
    "| $$L_{p}^2 \\equiv L_W + 10lg \\frac{4 A_0}{A} +10lg(Q \\frac{r_{rev}^2}{r^2} +1 - \\alpha_m)  $$ | **[18]** |\n",
    "\n",
    "where $A_0 = 1 m^2$. This formula is displayed in the figure for the case of an omnidirectional sound source $(Q= 1)$.\n",
    "\n",
    "![alternatvie text](..\\images\\Fig-7-1.png)\n",
    "\n",
    "In a reverberant room with little \n",
    "sound absorption (e.g., $α_m < 0.1$), the sound pressure level in the far field \n",
    "will be approximately as predicted by the diffuse field theory, i.e. the last term will be close to zero. In the case of a highly directive sound source \n",
    "like a trumpet $(Q \\ggg 1)$ , the direct field can be extended to distances much \n",
    "longer than the reverberation distance. In the latter situation, the last \n",
    "term in Equation 15 raises the sound pressure level above the diffuse \n",
    "field value.\n",
    "In large rooms with medium or high sound absorption $(e.g., α_m > 0.2)$, the \n",
    "sound pressure level will continue to decrease as a function of the distance \n",
    "because the diffuse field theory is not valid in such a room. Instead, the slope \n",
    "of the spatial decay curve may be taken as a measure of the degree of acoustic \n",
    "attenuation in a room. Hence, in large industrial halls, the attenuation in dB \n",
    "per doubling of the distance may be a better descriptor than the reverberation \n",
    "time.\n",
    "A reverberation room can be used to determine the sound power of a \n",
    "sound source by measuring the average sound pressure level in the room. \n",
    "If measurements are made in positions that avoid the direct sound, the last \n",
    "term in Equation 18 becomes more correctly (Vorländer 1995).\n",
    "\n",
    "| | |\n",
    "|---|---|\n",
    "| $$ 10lg(1-\\alpha_m) \\rightarrow 10lg(e^{-\\frac{A}{S}}) \\equiv -4.34 \\frac{A}{S}()dB $$ | **[19]** |\n",
    "\n",
    "where A is the equivalent absorption area, S is the total surface area and tak\u0002ing the air attenuation into account. For correct results \n",
    "at low frequencies, it is also necessary to apply the Waterhouse correction, and, thus, the sound power level is determined from:\n",
    "\n",
    "| | |\n",
    "|---|---|\n",
    "| $$L_W = L_p + 10lg \\frac{4 A_0}{A} +4.34 \\frac{A}{S} +10lg(1 + \\frac{cS}{8Vd})(dB) $$ | **[20]** |\n",
    "\n",
    "This is how the sound power of sound sources can be measured according \n",
    "to ISO 3741. In addition, the possible variation of temperature and static \n",
    "pressure may also be taken into account for very high precision.\n",
    "\n",
    "\n"
   ]
  },
  {
   "attachments": {},
   "cell_type": "markdown",
   "metadata": {},
   "source": [
    "### 6. Shape Intermezzo"
   ]
  },
  {
   "attachments": {},
   "cell_type": "markdown",
   "metadata": {},
   "source": [
    "| | |\n",
    "|---|---|\n",
    "| $$ Q = Q_s Q_r $$ | \n",
    "| $$L_p = L_W + 10lg \\frac{Q}{4\\pi r^2}  $$ | **[21]** |\n",
    "\n",
    "$Q = directivity factor$\n",
    "\n",
    "Q : directivity factor[-]\n",
    "\n",
    "q=10lgQ : directivity index [dB]\n",
    "\n",
    "\n",
    "Sound source in free ield:\n",
    "1/1 sphere\n",
    "Q = 1\n",
    "+ 0 dB\n",
    "\n",
    "![alternatvie text](..\\images\\Fig-7-2.png)\n",
    "\n",
    "1/2 sphere\n",
    "Q = 2\n",
    "+ 3 dB\n",
    "\n",
    "![alternatvie text](..\\images\\Fig-7-3.png)\n",
    "\n",
    "1/4 sphere\n",
    "Q = 4\n",
    "+ 6 dB\n",
    "\n",
    "![alternatvie text](..\\images\\Fig-7-4.png)\n",
    "\n",
    "1/8 sphere\n",
    "Q = 8\n",
    "+ 9 dB\n",
    "\n",
    "![alternatvie text](..\\images\\Fig-7-5.png)"
   ]
  },
  {
   "attachments": {},
   "cell_type": "markdown",
   "metadata": {},
   "source": [
    "### 7. Direct field / Difuse field"
   ]
  },
  {
   "attachments": {},
   "cell_type": "markdown",
   "metadata": {},
   "source": [
    "| | |\n",
    "|---|---|\n",
    "| $$direct field$$ | $$L_{Pdirect} = L_W + 10lg \\frac{Q}{4\\pi r^2} $$ \n",
    "| $$diffuse veld $$ | $$L_{Pdiffuus} = L_W + 10lg \\frac{4}{A}  $$ |\n",
    "| $$ dir. + diff. field $$ | $$L_{Pdir+diff}= L_W + 10lg (\\frac{Q}{4\\pi r^2} + \\frac{4}{A}) $$ |\n",
    "| $$ Critical distance $$ | $$L_{Pdir} = L_{Pdiff} \\rightarrow r_k = \\sqrt{\\frac{QA}{16\\pi}}$$ |"
   ]
  },
  {
   "attachments": {},
   "cell_type": "markdown",
   "metadata": {},
   "source": [
    "### References"
   ]
  },
  {
   "attachments": {},
   "cell_type": "markdown",
   "metadata": {},
   "source": [
    "1. Kuttruff, Acoustics: An Introduction; Taylor and Francis Group, 2007\n",
    "2. J. H. Rindel, Sound Insulation in Buildings; Taylor and Francis Group, \n",
    "3. \"What is Directivity?\" McSquared System Design Group, Inc. - Consultants in Sound/Video/Acoustics. http://www.mcsquared.com/directvt.htm (accedido el 12 de febrero de 2023).\n"
   ]
  }
 ],
 "metadata": {
  "kernelspec": {
   "display_name": "Python 3",
   "language": "python",
   "name": "python3"
  },
  "language_info": {
   "codemirror_mode": {
    "name": "ipython",
    "version": 3
   },
   "file_extension": ".py",
   "mimetype": "text/x-python",
   "name": "python",
   "nbconvert_exporter": "python",
   "pygments_lexer": "ipython3",
   "version": "3.9.13"
  },
  "orig_nbformat": 4,
  "vscode": {
   "interpreter": {
    "hash": "ad2bdc8ecc057115af97d19610ffacc2b4e99fae6737bb82f5d7fb13d2f2c186"
   }
  }
 },
 "nbformat": 4,
 "nbformat_minor": 2
}
