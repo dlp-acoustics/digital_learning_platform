{
 "cells": [
  {
   "attachments": {},
   "cell_type": "markdown",
   "metadata": {},
   "source": [
    "# Chapter 7: Room Acoustics\n",
    "## Introduction"
   ]
  },
  {
   "attachments": {},
   "cell_type": "markdown",
   "metadata": {},
   "source": [
    "## Sound in closed spaces"
   ]
  },
  {
   "attachments": {},
   "cell_type": "markdown",
   "metadata": {},
   "source": [
    "### Normal modes in a one-dimensional space"
   ]
  },
  {
   "attachments": {},
   "cell_type": "markdown",
   "metadata": {},
   "source": [
    "Before we discuss the advances in room modes, we start with  one dimensional enclosures, such as, a pipe of finite length with rigid walls. The assumptio we made for such one dimension case is that the lateral dimensions are small enough to guarantee that in the frequency range considered only the fundamental wave can exists and any loss processes as may occur in the medium and at the walls [1].\n",
    "Let us consider a one dimension pipe along x-axis and both the end of the pipe are closed with a rigid plate or lid. Any harmonic sound field within the pipe consists of a standing wave with maximum pressure amplitude occurring at its terminations. This is only possible if an integral number of half-wavelengths fits into the tube length L as shown in the figure below.\n",
    "Under such conditions the allowed frequencies which are called \"Eigenfrequencies\" are thus given as\n",
    "\n",
    "$f_n = n\\frac{c}{2L}$ where ($n = 0,1,2,3,...$)"
   ]
  },
  {
   "attachments": {},
   "cell_type": "markdown",
   "metadata": {},
   "source": [
    "#### Interactive example to calculate eigenfrequencies\n",
    "In the example below keep the pipe length and speed of sound constant and change the values of n (integer) to see the first, second and so on eigen frequencies associated with the pipe of fixed length.\n",
    "\n",
    "Repeate above procedure with different pipe length to see how the associated eigen frequencies varies with pipe length"
   ]
  },
  {
   "cell_type": "code",
   "execution_count": 2,
   "metadata": {},
   "outputs": [
    {
     "data": {
      "application/vnd.jupyter.widget-view+json": {
       "model_id": "24105c4df29d4e4a8e18b80923d2a820",
       "version_major": 2,
       "version_minor": 0
      },
      "text/plain": [
       "interactive(children=(IntSlider(value=10, description='Length', max=20, min=1), IntSlider(value=50, descriptio…"
      ]
     },
     "metadata": {},
     "output_type": "display_data"
    }
   ],
   "source": [
    "import ipywidgets as widgets\n",
    "import numpy as np\n",
    "import matplotlib as plt\n",
    "#\n",
    "@widgets.interact(Integral = (0,100), soundSpeed = (330,350), Length = (1,20))\n",
    "def eigenFrequency(Length,Integral,soundSpeed):\n",
    "    print('Eigenfrequency    =    ', Integral*(soundSpeed/(2*Length)),    \"(Hz)\")"
   ]
  },
  {
   "attachments": {},
   "cell_type": "markdown",
   "metadata": {},
   "source": [
    "The standing wave associated with a particular eigenfrequency is given by the following Equation\n",
    "\n",
    "$p_n(x,t)=\\hat{p}\\cos(\\frac{n\\pi x}{L})e^{j2\\pi f_n t}$"
   ]
  },
  {
   "attachments": {},
   "cell_type": "markdown",
   "metadata": {},
   "source": [
    "### References"
   ]
  },
  {
   "attachments": {},
   "cell_type": "markdown",
   "metadata": {},
   "source": [
    "1. Kuttruff, Acoustics: An Introduction; Taylor and Francis , 2007"
   ]
  }
 ],
 "metadata": {
  "kernelspec": {
   "display_name": "dlp",
   "language": "python",
   "name": "python3"
  },
  "language_info": {
   "codemirror_mode": {
    "name": "ipython",
    "version": 3
   },
   "file_extension": ".py",
   "mimetype": "text/x-python",
   "name": "python",
   "nbconvert_exporter": "python",
   "pygments_lexer": "ipython3",
   "version": "3.10.8"
  },
  "orig_nbformat": 4,
  "vscode": {
   "interpreter": {
    "hash": "c268bdd13dd0a3dc3fda71f5ee3a9d4f00ef0f3c1e6002ddfe4964e62f253ef3"
   }
  }
 },
 "nbformat": 4,
 "nbformat_minor": 2
}
