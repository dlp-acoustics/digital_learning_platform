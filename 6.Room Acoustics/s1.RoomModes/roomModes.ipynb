{
 "cells": [
  {
   "attachments": {},
   "cell_type": "markdown",
   "metadata": {},
   "source": [
    "# Chapter 7: Room Acoustics\n",
    "## Room Modes"
   ]
  },
  {
   "attachments": {},
   "cell_type": "markdown",
   "metadata": {},
   "source": [
    "### 1. Normal modes in a one-dimensional space"
   ]
  },
  {
   "attachments": {},
   "cell_type": "markdown",
   "metadata": {},
   "source": [
    "Before we discuss the advances in room modes, we start with  one dimensional enclosures, such as, a pipe of finite length with rigid walls. The assumptio we made for such one dimension case is that the lateral dimensions are small enough to guarantee that in the frequency range considered only the fundamental wave can exists and any loss processes as may occur in the medium and at the walls [1].\n",
    "Let us consider a one dimension pipe along x-axis and both the end of the pipe are closed with a rigid plate or lid. Any harmonic sound field within the pipe consists of a standing wave with maximum pressure amplitude occurring at its terminations. This is only possible if an integral number of half-wavelengths fits into the tube length L as shown in the figure below."
   ]
  },
  {
   "attachments": {},
   "cell_type": "markdown",
   "metadata": {},
   "source": [
    "__Figure 1: Normal modes in a rigid tube of finite length__"
   ]
  },
  {
   "attachments": {},
   "cell_type": "markdown",
   "metadata": {},
   "source": [
    "*Case 1: Rigid termination at both ends*\n",
    "\n",
    "![alternatvie text](..\\images\\Fig-1-1.png)"
   ]
  },
  {
   "attachments": {},
   "cell_type": "markdown",
   "metadata": {},
   "source": [
    "*Case 2: Open at both ends*\n",
    "\n",
    "![alternatvie text](..\\images\\Fig-1-2.png)"
   ]
  },
  {
   "attachments": {},
   "cell_type": "markdown",
   "metadata": {},
   "source": [
    "*Case 3: One end rigidly terminated, the other one is open*\n",
    "\n",
    "![alternatvie text](..\\images\\Fig-1-3.png)"
   ]
  },
  {
   "attachments": {},
   "cell_type": "markdown",
   "metadata": {},
   "source": [
    "##### Case 1: Both ends of the pipe are closed\n",
    "Let take the case where both ends of the pipe are closed with a rigid plate or lid. Any harmonic sound field within the pipe consists of a standing wave with maximum pressure amplitude occurring at its terminations. This is only possible if an integral number of half-wavelengths fits into the tube length L (**Fig 1: Case 1**). Under such conditions the allowed frequencies which are called \"Eigenfrequencies\" are thus given as\n",
    "|  |  |\n",
    "| --- | --- |\n",
    "| $f_n = n\\frac{c}{2L}$ | **[1]** |\n",
    "\n",
    "where ($n = 0,1,2,3,...$)"
   ]
  },
  {
   "attachments": {},
   "cell_type": "markdown",
   "metadata": {},
   "source": [
    "The standing wave associated with a particular eigenfrequency is given by the following Equation\n",
    "| | |\n",
    "|---|---|\n",
    "|$p_n(x,t)=\\hat{p}\\cos(\\frac{n\\pi x}{L})e^{j2\\pi f_n t}$| **[2]**|"
   ]
  },
  {
   "attachments": {},
   "cell_type": "markdown",
   "metadata": {},
   "source": [
    "##### Case 2: Open ends of the pipe\n",
    "Let's assume that the pipe is terminated with zero impedance at both its ends which is leaving the pipe open at both ends. Again, the sound field with harmonic pressure variation consists of a standing wave, but now the pressure amplitude at $x=0$ and $x=L$ must be zero.\n",
    "As with rigid terminations, this is achieved when the pipe length equals an integral number of halfwavelengths, hence the eigenfrequencies of the pipe are given by **Eq [1]** as before.\n",
    "Now the distribution of sound pressure amplitudes is different in that the cosine in **Eq [2]** is replaced with a sine function with the same argument. Obviously, no sound field can exist for $n=0$, in contrast to the case 1."
   ]
  },
  {
   "attachments": {},
   "cell_type": "markdown",
   "metadata": {},
   "source": [
    "##### Interactive example to calculate eigenfrequencies (Case1 and Case 2)\n",
    "In the example below keep the pipe length and speed of sound constant and change the values of n (integer) to see the first, second and so on eigen frequencies associated with the pipe of fixed length.\n",
    "Repeate above procedure with different pipe length to see how the associated eigen frequencies varies with pipe length"
   ]
  },
  {
   "cell_type": "code",
   "execution_count": 1,
   "metadata": {},
   "outputs": [
    {
     "data": {
      "application/vnd.jupyter.widget-view+json": {
       "model_id": "d00c7043ae144fec91d47f92f268bb17",
       "version_major": 2,
       "version_minor": 0
      },
      "text/plain": [
       "interactive(children=(IntSlider(value=10, description='Length', max=20, min=1), IntSlider(value=50, descriptio…"
      ]
     },
     "metadata": {},
     "output_type": "display_data"
    }
   ],
   "source": [
    "import ipywidgets as widgets\n",
    "import numpy as np\n",
    "#\n",
    "@widgets.interact(Integral = (0,100), soundSpeed = (330,350), Length = (1,20))\n",
    "def eigenFrequency(Length,Integral,soundSpeed):\n",
    "    print('Eigenfrequency    =    ', Integral*(soundSpeed/(2*Length)),    \"(Hz)\")"
   ]
  },
  {
   "attachments": {},
   "cell_type": "markdown",
   "metadata": {},
   "source": [
    "##### Case 3: Open end at one side of the pipe\n",
    "In case 3, we consider a pipe with one open end at $x=L$ while the other end at $x=0$ is terminated with a rigid cap (**Fig 1: Case 3**). Since the resulting standing wave has a pressure maximum at its left side and a pressure node at the right end, the pipe length must be equal to an integral number of half-wavelengths plus one quarter-wavelength or in other words, to an odd multiple of a quarter-wavelength, which follows the Equation.\n",
    "| | |\n",
    "|---|---|\n",
    "|$f_n = (2n-1)\\frac{c}{4L}$|**[3]**|\n",
    "\n",
    "where ($n = 0,1,2,3,...$)  \n",
    "Again, the eigenfrequencies are equidistant along the frequency axis; however, the lowest one is only half as high as that of a pipe with equal terminations. Now the sound pressure is represented by\n",
    "| | |\n",
    "|---|---|\n",
    "|$p_n(x,t) = \\hat{p}\\cos[(n-\\frac{1}{2})\\frac{\\pi x}{L}]e^{j2\\pi f_n t}$|**[4]**|\n"
   ]
  },
  {
   "attachments": {},
   "cell_type": "markdown",
   "metadata": {},
   "source": [
    "##### Interactive example to calculate eigenfrequencies (Case 3)\n",
    "In the example below keep the pipe length and speed of sound constant and change the values of n (integer) to see the first, second and so on eigen frequencies associated with the pipe of fixed length.\n",
    "Repeate above procedure with different pipe length to see how the associated eigen frequencies varies with pipe length"
   ]
  },
  {
   "cell_type": "code",
   "execution_count": 2,
   "metadata": {},
   "outputs": [
    {
     "data": {
      "application/vnd.jupyter.widget-view+json": {
       "model_id": "da9da290bc1449a1ad426e346b76144b",
       "version_major": 2,
       "version_minor": 0
      },
      "text/plain": [
       "interactive(children=(IntSlider(value=10, description='Length', max=20, min=1), IntSlider(value=50, descriptio…"
      ]
     },
     "metadata": {},
     "output_type": "display_data"
    }
   ],
   "source": [
    "@widgets.interact(Integral = (0,100), soundSpeed = (330,350), Length = (1,20))\n",
    "def eigenFrequency(Length,Integral,soundSpeed):\n",
    "    eigenfrequency = (2*Integral-1)*(soundSpeed/(4*Length))\n",
    "    print('Eigenfrequency    =    ', eigenfrequency,    \"(Hz)\")"
   ]
  },
  {
   "attachments": {},
   "cell_type": "markdown",
   "metadata": {},
   "source": [
    "### 2. Normal modes in a rectangular room with rigid walls"
   ]
  },
  {
   "attachments": {},
   "cell_type": "markdown",
   "metadata": {},
   "source": [
    "Now we can proceed to find the eigenfrequencies and normal modes of a rectangular room with the dimensions $L_x$, $L_y$ and $L_z$ all walls of which are rigid (**Fig 3**). Hence higher order wave types propagate in this room each of them characterised by two integers $m$ and $n$.\n",
    "The angular wavenumber $k^{''}$ of any such wave type is given as\n",
    "\n",
    "$k^{''}=\\frac{\\omega}{c}\\sqrt{1-(\\frac{\\omega_{mn}}{\\omega})^2}$, and\n",
    "\n",
    "$\\omega_{mn}=\\sqrt{(\\frac{m\\pi c}{L_y})^2+(\\frac{n\\pi c}{L_y})^2}$\n",
    "\n",
    "The wavelength associated with it is $\\lambda^{''}=\\frac{2\\pi}{k^{''}}$. The requirement that an integral number of half-wavelengths fit into the length $L_x$ of the channel is equivalent to $L_x=l(\\frac{\\pi}{k^{''}})$ with $l=0,1,2,$ etc.\n",
    "\n",
    "Hence the allowed frequencies are given as\n",
    "| | |\n",
    "|----|----|\n",
    "|$f_{lmn}=\\frac{c}{2}\\sqrt{(\\frac{l}{L_x})^2+(\\frac{m}{L_y})^2+(\\frac{n}{L_z})^2}$| **[5]**\n",
    "\n",
    "In this rectangular room the amplitudes are no longer independent of the &y& and $z$ but shows a lateral distribution. Hence the sound pressure of a normal mode marked by the integers $l$, $m$ and $n$ is given as\n",
    "\n",
    "| | |\n",
    "|---|---|\n",
    "| $p_{lmn}(x,y,z,t)=\\hat{p}cos(\\frac{l\\pi x}{L_x})cos(\\frac{m\\pi y}{L_y})cos(\\frac{n\\pi z}{L_z}).e^{j2\\pi f_{lmn}t}$ | **[6]** |\n",
    "\n",
    "A given mode has $l$ nodal planes perpendicular to the x-axis, $m$ nodal planes perpendicular to the y-axis and $n$ nodal planes perpendicular to the z-axis. Along these planes the sound pressure is always zero."
   ]
  },
  {
   "attachments": {},
   "cell_type": "markdown",
   "metadata": {},
   "source": [
    "##### Examples of Axial, Tangential and Obligue Modes\n",
    "![alternatvie text](..\\images\\Fig-3.png)"
   ]
  },
  {
   "attachments": {},
   "cell_type": "markdown",
   "metadata": {},
   "source": [
    "#### The Schroeder limiting frequency\n",
    "Due to the high number of modes in a room at high frequencies and in order to avoid too complicated methods, it is necessary to apply statistical considerations, e.g. to assume the same energy in all modes within a certain frequency band. As a minimum requirement, it has been suggested by Schroeder (1962) that the modal overlap should be $M=3$, although this cannot be considered a very sharp borderline. This leads to a lower limiting frequency for statistical methods, the so-called ***Schroeder’s limiting frequency***, $f_g$, given as,\n",
    "\n",
    "$f_g=2000\\sqrt{\\frac{T}{V}}$\n",
    "\n",
    "Where $T$ is the reverberation time (in sec) and $V$ is the volume (in $m^3$).\n",
    "\n",
    "As an example, a room with volume $125 m^3$ and reverberation time $0.2 s$, has a limiting frequency of $f_g=79$ Hz. Thus, below this frequency, a weak coupling between the room modes can be assumed, or in other words the sound field below $79$ Hz may be dominated by single room modes.  \n",
    "You can also vary the room dimension to see the increase/decrease of the $f_g$ with change in vloume or by changing the absorption (i.e. the reverberation)."
   ]
  },
  {
   "cell_type": "code",
   "execution_count": 3,
   "metadata": {},
   "outputs": [
    {
     "data": {
      "application/vnd.jupyter.widget-view+json": {
       "model_id": "078c2918fa674ecda8a6d325749eac76",
       "version_major": 2,
       "version_minor": 0
      },
      "text/plain": [
       "interactive(children=(IntSlider(value=5, description='Length', max=10, min=1), IntSlider(value=5, description=…"
      ]
     },
     "metadata": {},
     "output_type": "display_data"
    }
   ],
   "source": [
    "@widgets.interact(Length = (1,10), Width = (1,10), Height = (1,10), Absorption = (0.01,0.4))\n",
    "def Schroeder_Frequency(Length,Width,Height,Absorption):\n",
    "    Surface_area = 2*(Length*Width)+2*(Length*Height)+2*(Height*Width)\n",
    "    Volume = Length*Width*Height\n",
    "    Equ_Absorption = Surface_area*Absorption\n",
    "    Reverberation_time = 0.049*(Volume/Equ_Absorption)\n",
    "    print('Volume                =    ', Volume)\n",
    "    print('Schroeder Frequency   =    ', int(2000*np.sqrt(Reverberation_time/Volume)))\n",
    "    print('Reverberation Time    =    ', Reverberation_time)"
   ]
  },
  {
   "attachments": {},
   "cell_type": "markdown",
   "metadata": {},
   "source": [
    "### 3. Modal Density"
   ]
  },
  {
   "attachments": {},
   "cell_type": "markdown",
   "metadata": {},
   "source": [
    "A closer inspection of $Eq: 5$ shows that the natural frequencies of a rectangular room may be interpreted in a geometrical way."
   ]
  },
  {
   "attachments": {},
   "cell_type": "markdown",
   "metadata": {},
   "source": [
    "### References"
   ]
  },
  {
   "attachments": {},
   "cell_type": "markdown",
   "metadata": {},
   "source": [
    "1. Kuttruff, Acoustics: An Introduction; Taylor and Francis , 2007"
   ]
  }
 ],
 "metadata": {
  "kernelspec": {
   "display_name": "dlp",
   "language": "python",
   "name": "python3"
  },
  "language_info": {
   "codemirror_mode": {
    "name": "ipython",
    "version": 3
   },
   "file_extension": ".py",
   "mimetype": "text/x-python",
   "name": "python",
   "nbconvert_exporter": "python",
   "pygments_lexer": "ipython3",
   "version": "3.10.8 (tags/v3.10.8:aaaf517, Oct 11 2022, 16:50:30) [MSC v.1933 64 bit (AMD64)]"
  },
  "orig_nbformat": 4,
  "vscode": {
   "interpreter": {
    "hash": "c268bdd13dd0a3dc3fda71f5ee3a9d4f00ef0f3c1e6002ddfe4964e62f253ef3"
   }
  }
 },
 "nbformat": 4,
 "nbformat_minor": 2
}
