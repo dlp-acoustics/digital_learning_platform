{
 "cells": [
  {
   "attachments": {},
   "cell_type": "markdown",
   "metadata": {},
   "source": [
    "# Chapter 7: Room Acoustics\n",
    "## Introduction"
   ]
  }
 ],
 "metadata": {
  "kernelspec": {
   "display_name": "dlp",
   "language": "python",
   "name": "python3"
  },
  "language_info": {
   "name": "python",
   "version": "3.10.8 (tags/v3.10.8:aaaf517, Oct 11 2022, 16:50:30) [MSC v.1933 64 bit (AMD64)]"
  },
  "orig_nbformat": 4,
  "vscode": {
   "interpreter": {
    "hash": "c268bdd13dd0a3dc3fda71f5ee3a9d4f00ef0f3c1e6002ddfe4964e62f253ef3"
   }
  }
 },
 "nbformat": 4,
 "nbformat_minor": 2
}
