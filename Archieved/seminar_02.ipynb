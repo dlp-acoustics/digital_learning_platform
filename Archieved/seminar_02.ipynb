{
 "cells": [
  {
   "cell_type": "markdown",
   "id": "5e98001c",
   "metadata": {
    "deletable": false,
    "editable": false,
    "nbgrader": {
     "cell_type": "markdown",
     "checksum": "8e633c9781b36697f39553319436ea20",
     "grade": false,
     "grade_id": "Assignment",
     "locked": true,
     "schema_version": 3,
     "solution": false,
     "task": false
    }
   },
   "source": [
    "### Assignment: Sampling Theorem and Discretization of Signals"
   ]
  },
  {
   "cell_type": "markdown",
   "id": "bc3e83e4",
   "metadata": {
    "deletable": false,
    "editable": false,
    "nbgrader": {
     "cell_type": "markdown",
     "checksum": "caa157f8d5bd66bd9c2594f4821bb234",
     "grade": false,
     "grade_id": "Objective",
     "locked": true,
     "schema_version": 3,
     "solution": false,
     "task": false
    }
   },
   "source": [
    "#### What You will Learn:\n",
    "\n",
    "In this assignment the students will learn about Sampling and quantization of signals by completing the codes given below, step by step."
   ]
  },
  {
   "cell_type": "markdown",
   "id": "99fd0dff",
   "metadata": {
    "deletable": false,
    "editable": false,
    "nbgrader": {
     "cell_type": "markdown",
     "checksum": "edb5603cb705d9d6abb5703aac461878",
     "grade": false,
     "grade_id": "Introduction",
     "locked": true,
     "schema_version": 3,
     "solution": false,
     "task": false
    }
   },
   "source": [
    "### Introduction:\n",
    "\n",
    "An Analog signal is represented by a mathematical equation thus producing infinite number of values no matter how close two time interval are, we cannot find a single break in the signal, nor a loss of resolution nor staggering of the shape of the wave function.\n",
    "A clear advantage of digital signals over Analog signal is in its storage capabilities. So what we want to do is break apart the wave and make it discontinuous, to produce values only at certain points in time.\n",
    "The process of converting an Analog signal to digital one begins with by asking question:\n",
    "1. How often do we want to measure the signal?\n",
    "2. How many samples do we wants to have within a given interval of time?"
   ]
  },
  {
   "cell_type": "code",
   "execution_count": 1,
   "id": "6b8a72b5",
   "metadata": {
    "deletable": false,
    "editable": false,
    "nbgrader": {
     "cell_type": "code",
     "checksum": "a44c381ab46b796205ce53025eeb5594",
     "grade": false,
     "grade_id": "ImportPackages",
     "locked": true,
     "schema_version": 3,
     "solution": false,
     "task": false
    }
   },
   "outputs": [],
   "source": [
    "import matplotlib.pyplot as plt\n",
    "import numpy as np\n",
    "import librosa"
   ]
  },
  {
   "cell_type": "markdown",
   "id": "64ca2f75",
   "metadata": {
    "deletable": false,
    "editable": false,
    "nbgrader": {
     "cell_type": "markdown",
     "checksum": "676378351f2e43c89fb5b56ddd058f9e",
     "grade": false,
     "grade_id": "Example",
     "locked": true,
     "schema_version": 3,
     "solution": false,
     "task": false
    }
   },
   "source": [
    "Below you can see an example of a sign wave, we have 30 sample within a 1 sec interval of this 2Hz sine wave."
   ]
  },
  {
   "cell_type": "code",
   "execution_count": 2,
   "id": "b18daaf1",
   "metadata": {
    "deletable": false,
    "editable": false,
    "nbgrader": {
     "cell_type": "code",
     "checksum": "a46489923b8fe7f8ec6586fbbc795c17",
     "grade": false,
     "grade_id": "ExampleCode",
     "locked": true,
     "schema_version": 3,
     "solution": false,
     "task": false
    }
   },
   "outputs": [
    {
     "data": {
      "image/png": "[encoded data removed]",
      "text/plain": [
       "<Figure size 640x480 with 1 Axes>"
      ]
     },
     "metadata": {},
     "output_type": "display_data"
    }
   ],
   "source": [
    "fs1 = 44100\n",
    "fs2 = 60\n",
    "f = 2\n",
    "time1 = np.arange(0, 1, 1.0/fs1)\n",
    "time2 = np.arange(0, 1, 1.0/fs2)\n",
    "sign1 = np.sin(2*np.pi*f*time1)\n",
    "sign2 = np.sin(2*np.pi*f*time2)\n",
    "plt.plot(time1, sign1)\n",
    "plt.plot(time2, sign2, 'o')\n",
    "plt.ylim([-1.5, 1.5])\n",
    "plt.grid()\n",
    "plt.show()"
   ]
  },
  {
   "cell_type": "markdown",
   "id": "5c0106b7",
   "metadata": {
    "deletable": false,
    "editable": false,
    "nbgrader": {
     "cell_type": "markdown",
     "checksum": "515d883d066b799710ff4980df0da29f",
     "grade": false,
     "grade_id": "Description",
     "locked": true,
     "schema_version": 3,
     "solution": false,
     "task": false
    }
   },
   "source": [
    "We can also sample it 20 time a second, or 8 or even 4, or 44100 time a second"
   ]
  },
  {
   "cell_type": "markdown",
   "id": "9a375259",
   "metadata": {
    "deletable": false,
    "editable": false,
    "nbgrader": {
     "cell_type": "markdown",
     "checksum": "fa7fae2aafbb84c6144573318591d7c7",
     "grade": false,
     "grade_id": "Task1",
     "locked": true,
     "schema_version": 3,
     "solution": false,
     "task": false
    }
   },
   "source": [
    "#### Task I:\n",
    "How many sample are enough to accurately reprsent this sine wave of 2Hz then?"
   ]
  },
  {
   "cell_type": "code",
   "execution_count": 10,
   "id": "56165e56",
   "metadata": {
    "deletable": false,
    "nbgrader": {
     "cell_type": "code",
     "checksum": "2d4cb930238f117f2e3aa6e898586aa7",
     "grade": false,
     "grade_id": "Task1_Answer",
     "locked": false,
     "schema_version": 3,
     "solution": true,
     "task": false
    }
   },
   "outputs": [],
   "source": [
    "# Answer1 = 9999 # Write your answer in this form (Please do not change the variable name \"Answer1\")\n",
    "# YOUR CODE HERE\n",
    "Answer1 = 4"
   ]
  },
  {
   "cell_type": "code",
   "execution_count": 11,
   "id": "359b7752",
   "metadata": {
    "deletable": false,
    "editable": false,
    "nbgrader": {
     "cell_type": "code",
     "checksum": "63fc6495d1dd4c36b3276eda65d2d016",
     "grade": true,
     "grade_id": "Task1Test",
     "locked": true,
     "points": 0,
     "schema_version": 3,
     "solution": false,
     "task": false
    }
   },
   "outputs": [],
   "source": [
    "ans1 = 4\n",
    "assert Answer1==ans1"
   ]
  },
  {
   "cell_type": "markdown",
   "id": "24cb9301",
   "metadata": {
    "deletable": false,
    "editable": false,
    "nbgrader": {
     "cell_type": "markdown",
     "checksum": "7fbdd47d0a01d0552eee1ed8218f6c31",
     "grade": false,
     "grade_id": "Task2",
     "locked": true,
     "schema_version": 3,
     "solution": false,
     "task": false
    }
   },
   "source": [
    "#### Task II:\n",
    "Suppose you have smapled an analog broad band audio signal with a sample rate of 10 KHz by using Nyquist-Shannon Sampling Theorem.\n",
    "Can this signal contain a frequency of 8 KHz."
   ]
  },
  {
   "cell_type": "code",
   "execution_count": 12,
   "id": "b94659c5",
   "metadata": {
    "deletable": false,
    "nbgrader": {
     "cell_type": "code",
     "checksum": "81a380e0ef08ce7fa391663e50d14c1d",
     "grade": false,
     "grade_id": "Task2Answer",
     "locked": false,
     "schema_version": 3,
     "solution": true,
     "task": false
    }
   },
   "outputs": [],
   "source": [
    "# Answer1 = \"\" # Write you answer as \"YES\" or \"NO\" below (Do not write \"Y\" or \"N\" or anything else)\n",
    "# YOUR CODE HERE\n",
    "Answer2 = \"NO\""
   ]
  },
  {
   "cell_type": "code",
   "execution_count": 8,
   "id": "87dc02b5",
   "metadata": {},
   "outputs": [],
   "source": [
    "ans2 = \"NO\"\n",
    "assert Answer2==ans2"
   ]
  },
  {
   "cell_type": "markdown",
   "id": "8f89b11d",
   "metadata": {
    "deletable": false,
    "editable": false,
    "nbgrader": {
     "cell_type": "markdown",
     "checksum": "30d4543ac8c9dad3ceaf4d844c743a5c",
     "grade": false,
     "grade_id": "Task3",
     "locked": true,
     "schema_version": 3,
     "solution": false,
     "task": false
    }
   },
   "source": [
    "#### Task III:\n",
    "Write a Method (Function) to generate a sine wave for any given sample rate and frequency as input, for one second duration."
   ]
  },
  {
   "cell_type": "code",
   "execution_count": 9,
   "id": "63362498",
   "metadata": {
    "deletable": false,
    "nbgrader": {
     "cell_type": "code",
     "checksum": "22812e8d4cea58b5c9748fa995cca7af",
     "grade": false,
     "grade_id": "Task3_Answer",
     "locked": false,
     "schema_version": 3,
     "solution": true,
     "task": false
    }
   },
   "outputs": [],
   "source": [
    "def sinewave(f,fs):\n",
    "    ''' f = The frequency for which sine wave will be generated\n",
    "        fs = The sampling Frequecy\n",
    "        Task: Return the time values, signal values and frequency spectra of the signal '''\n",
    "    \n",
    "    # YOUR CODE HERE\n",
    "    raise NotImplementedError()\n",
    "    "
   ]
  },
  {
   "cell_type": "markdown",
   "id": "6b168218",
   "metadata": {
    "deletable": false,
    "editable": false,
    "nbgrader": {
     "cell_type": "markdown",
     "checksum": "b29d1b2556dc385a78d3f0633ae1c3e3",
     "grade": false,
     "grade_id": "Task4",
     "locked": true,
     "schema_version": 3,
     "solution": false,
     "task": false
    }
   },
   "source": [
    "#### Task IV:\n",
    "1. Use the above method (function) to generate a sine wave of 1000 Hz with a sampling frequency of 8000 Hz.\n",
    "2. Plot the sine signal for first 100 samples (HINT: keep the y-axis limt from -1.2 to 1.2 for better view of the signal).\n",
    "3. Plot the frequency spectra of the signal"
   ]
  },
  {
   "cell_type": "code",
   "execution_count": 13,
   "id": "07f5bfe0",
   "metadata": {
    "deletable": false,
    "nbgrader": {
     "cell_type": "code",
     "checksum": "38b0186dbe01852200e3a350e7477d2f",
     "grade": false,
     "grade_id": "Task4_Answer01",
     "locked": false,
     "schema_version": 3,
     "solution": true,
     "task": false
    }
   },
   "outputs": [
    {
     "ename": "NotImplementedError",
     "evalue": "",
     "output_type": "error",
     "traceback": [
      "\u001b[1;31m---------------------------------------------------------------------------\u001b[0m",
      "\u001b[1;31mNotImplementedError\u001b[0m                       Traceback (most recent call last)",
      "Cell \u001b[1;32mIn[13], line 2\u001b[0m\n\u001b[0;32m      1\u001b[0m \u001b[39m# YOUR CODE HERE\u001b[39;00m\n\u001b[1;32m----> 2\u001b[0m \u001b[39mraise\u001b[39;00m \u001b[39mNotImplementedError\u001b[39;00m()\n",
      "\u001b[1;31mNotImplementedError\u001b[0m: "
     ]
    }
   ],
   "source": [
    "# YOUR CODE HERE\n",
    "raise NotImplementedError()\n"
   ]
  },
  {
   "cell_type": "code",
   "execution_count": null,
   "id": "71609b71",
   "metadata": {
    "deletable": false,
    "nbgrader": {
     "cell_type": "code",
     "checksum": "651b2a0e66991955407d16fc6202e42e",
     "grade": false,
     "grade_id": "Task4_nswer02",
     "locked": false,
     "schema_version": 3,
     "solution": true,
     "task": false
    }
   },
   "outputs": [],
   "source": [
    "''' Have a look into the plots above\n",
    "    1. How many maxima (Peaks in numbers) you can count from this time domain sine wave signal '''\n",
    "# Answer4 = 9999 # Write your answer as (Please do not change the variable name \"Answer4\")\n",
    "# YOUR CODE HERE\n",
    "raise NotImplementedError()\n",
    "\n",
    "''' 2. How many Frequency Peaks (in numbers) you can see from the spectrum of this sine wave signal '''\n",
    "# Answer5 = 9999 # Write your answer as (Please do not change the variable name \"Answer5\")\n",
    "# YOUR CODE HERE\n",
    "raise NotImplementedError()"
   ]
  },
  {
   "cell_type": "code",
   "execution_count": null,
   "id": "88d02c2e",
   "metadata": {
    "deletable": false,
    "editable": false,
    "nbgrader": {
     "cell_type": "code",
     "checksum": "ebe926df0c0de5139815d6628bca32db",
     "grade": true,
     "grade_id": "Task4_Test",
     "locked": true,
     "points": 5,
     "schema_version": 3,
     "solution": false,
     "task": false
    }
   },
   "outputs": [],
   "source": [
    "x1 = 13\n",
    "assert Answer4==x1\n",
    "x2 = 1\n",
    "assert Answer5==x2"
   ]
  },
  {
   "cell_type": "markdown",
   "id": "5911037c",
   "metadata": {
    "deletable": false,
    "editable": false,
    "nbgrader": {
     "cell_type": "markdown",
     "checksum": "0b79e9a8f4e1eb461c1962fadaf68e44",
     "grade": false,
     "grade_id": "Task5",
     "locked": true,
     "schema_version": 3,
     "solution": false,
     "task": false
    }
   },
   "source": [
    "#### Task IV:\n",
    "Now use the same sine wave generator method (function) to generate a sine wave of exactl half the sampling frequency of 8000 Hz.\n",
    "1. Plot the eitire signal (keep the y-axis limt from -1 to 1 for better view of the signal)\n",
    "2. Plot the frequency spectra of the signal (Hint: keep the y-axis limt from -1 to 1 for better view of the signal, otherwise you will see spectra of noise with many peaks)"
   ]
  },
  {
   "cell_type": "code",
   "execution_count": null,
   "id": "8ad66c89",
   "metadata": {
    "deletable": false,
    "nbgrader": {
     "cell_type": "code",
     "checksum": "0fec593705edf0513223153a74dc280c",
     "grade": false,
     "grade_id": "Task5Answer01",
     "locked": false,
     "schema_version": 3,
     "solution": true,
     "task": false
    }
   },
   "outputs": [],
   "source": [
    "# YOUR CODE HERE\n",
    "raise NotImplementedError()"
   ]
  },
  {
   "cell_type": "code",
   "execution_count": null,
   "id": "591ded43",
   "metadata": {
    "deletable": false,
    "nbgrader": {
     "cell_type": "code",
     "checksum": "2f99c7d685ba9c85deadc5f21bd71e70",
     "grade": false,
     "grade_id": "Task5_Answer02",
     "locked": false,
     "schema_version": 3,
     "solution": true,
     "task": false
    }
   },
   "outputs": [],
   "source": [
    "''' How many Frequency Peaks (in numbers) now you can see from the spectrum of this sine wave signal '''\n",
    "# Answer6 = 9999 # Write your answer as (Please do not change the variable name \"Answer6\")\n",
    "# YOUR CODE HERE\n",
    "raise NotImplementedError()"
   ]
  },
  {
   "cell_type": "code",
   "execution_count": null,
   "id": "1c33c2a4",
   "metadata": {
    "deletable": false,
    "editable": false,
    "nbgrader": {
     "cell_type": "code",
     "checksum": "f82cedd92b074e58c310d31c08862c37",
     "grade": true,
     "grade_id": "Task5_Test",
     "locked": true,
     "points": 2,
     "schema_version": 3,
     "solution": false,
     "task": false
    }
   },
   "outputs": [],
   "source": [
    "x1 = 0\n",
    "assert Answer6==x1"
   ]
  },
  {
   "cell_type": "markdown",
   "id": "96502299",
   "metadata": {
    "deletable": false,
    "editable": false,
    "nbgrader": {
     "cell_type": "markdown",
     "checksum": "8c566b7a03b5f428a910f59d208d1e81",
     "grade": false,
     "grade_id": "Introduction2",
     "locked": true,
     "schema_version": 3,
     "solution": false,
     "task": false
    }
   },
   "source": [
    "### Common Audio Sample Rates\n",
    "Nyquist Shannon Sampling Theorem says that:\n",
    "##### A band limited continuous-time signal can be represented in its samples and can be recovered back when sampling at a frequency greater than twice the highest frequency component of the input signal.\n",
    "We can already identify and limit the highest frequency component that should be in our input signals that's the limit of human hearing 20 KHz. It is an optimistic limit that's been established through a lot of research and testing of individuals in the general population but for a majority of us it's well below that and as you grow older your sensitivity to high frequencies decreases we can realistically cap the highest frequency in our input signal to be 20 KHz because having any frequencies above that is just wasteful and unnecessary according to the sampling theorem. Then our sample rate can be any value over 40 KHz and as we learnt from the ADSP Course that we need a bit of a buffer band between the highest representable frequency and half the sampling rate or the Nyquist frequency we came up with a practical estimate of choosing the sample rate which is around two and a half times higher than the highest frequency."
   ]
  },
  {
   "cell_type": "markdown",
   "id": "3c7b3b9e",
   "metadata": {
    "deletable": false,
    "editable": false,
    "nbgrader": {
     "cell_type": "markdown",
     "checksum": "1a0ccf437a1082f0bc7b189ff53a6a0a",
     "grade": false,
     "grade_id": "Task6",
     "locked": true,
     "schema_version": 3,
     "solution": false,
     "task": false
    }
   },
   "source": [
    "#### Task VI:\n",
    "Let us suppose that you want to record an audio signal for the full audiable frequency range which is defined between 20 Hz to 20 KHz. For this purpose you decide to record an audio signal at sampling rate of fs = 44100 Hz.\n",
    "1. To do this task write a method (function) below, that takes any input maximum frequency (fm) of the signal and calculate the buffer band range"
   ]
  },
  {
   "cell_type": "code",
   "execution_count": null,
   "id": "ed293b02",
   "metadata": {
    "deletable": false,
    "nbgrader": {
     "cell_type": "code",
     "checksum": "f319332c925bf0c248b3c1784e11eb72",
     "grade": false,
     "grade_id": "Task6_Answer01",
     "locked": false,
     "schema_version": 3,
     "solution": true,
     "task": false
    }
   },
   "outputs": [],
   "source": [
    "def bufferband(fm):\n",
    "    # fm is the maximum frequency that required to be captured\n",
    "    fs = 44100 # Sampling frequecny (fixed in this case)\n",
    "    \n",
    "    # YOUR CODE HERE\n",
    "    raise NotImplementedError()"
   ]
  },
  {
   "cell_type": "markdown",
   "id": "3995053c",
   "metadata": {
    "deletable": false,
    "editable": false,
    "nbgrader": {
     "cell_type": "markdown",
     "checksum": "a8574ab830707574f4e8ef8e596507e6",
     "grade": false,
     "grade_id": "Task6_2",
     "locked": true,
     "schema_version": 3,
     "solution": false,
     "task": false
    }
   },
   "source": [
    "2. Calculate the buffer band range in the above mentioned case which is available for such recording scenario to avoid aliasing effects. (Calculate through the method created above)"
   ]
  },
  {
   "cell_type": "code",
   "execution_count": null,
   "id": "54957f71",
   "metadata": {
    "deletable": false,
    "nbgrader": {
     "cell_type": "code",
     "checksum": "a2d57aa1b206882f9a47952e46fcd57e",
     "grade": false,
     "grade_id": "Task6_2_Answer",
     "locked": false,
     "schema_version": 3,
     "solution": true,
     "task": false
    }
   },
   "outputs": [],
   "source": [
    "fm = 20000\n",
    "# Call the function for fm and store the answer with variable name (buffer_band)\n",
    "# i.e. buffer_band = bufferband(fm)\n",
    "# YOUR CODE HERE\n",
    "raise NotImplementedError()"
   ]
  },
  {
   "cell_type": "code",
   "execution_count": null,
   "id": "3afd2d88",
   "metadata": {
    "deletable": false,
    "editable": false,
    "nbgrader": {
     "cell_type": "code",
     "checksum": "e219a78a7b101da466c41ecb664737be",
     "grade": true,
     "grade_id": "Task6_Test",
     "locked": true,
     "points": 2,
     "schema_version": 3,
     "solution": false,
     "task": false
    }
   },
   "outputs": [],
   "source": [
    "assert buffer_band == bufferband(20000)"
   ]
  },
  {
   "cell_type": "markdown",
   "id": "151ce2f5",
   "metadata": {
    "deletable": false,
    "editable": false,
    "nbgrader": {
     "cell_type": "markdown",
     "checksum": "ba2ec589614123d227b7a52437e03c24",
     "grade": false,
     "grade_id": "Introduction3",
     "locked": true,
     "schema_version": 3,
     "solution": false,
     "task": false
    }
   },
   "source": [
    "### Aliasing\n",
    "let's get into temporal aliasing in audio signals. Here is a breif recap of how a low sampling rate coupled with high frequencies can cause aliasing.\n",
    "As we know that aliasing is a possibility when the signal is processed, and they account it by internally (in the digital domain) oversample the signal. Some time this mechnaisim is trasparent and we even donot notice that it is happening.\n",
    "\n",
    "Let us assume that we are recording a sine sweep wave at 8 KHz sampling rate. It means that the highest frequency of our sine sweep signal must be less than the hlaf of the sampling rate (i.e. 4 KHz). However, let generate this sine sweep up to 16 KHz. Let's now plot a graph of the frequency over time for the original input sine sweep signal and the raw sampled output signal which looks like the following:"
   ]
  },
  {
   "cell_type": "code",
   "execution_count": 14,
   "id": "a0e34ed0",
   "metadata": {
    "deletable": false,
    "editable": false,
    "nbgrader": {
     "cell_type": "code",
     "checksum": "6ce91929fd33dc3ab397dd7592300f7e",
     "grade": false,
     "grade_id": "Introduction3_Example",
     "locked": true,
     "schema_version": 3,
     "solution": false,
     "task": false
    }
   },
   "outputs": [
    {
     "data": {
      "text/plain": [
       "<matplotlib.legend.Legend at 0x27a7fcaca30>"
      ]
     },
     "execution_count": 14,
     "metadata": {},
     "output_type": "execute_result"
    },
    {
     "data": {
      "image/png": "[encoded data removed]",
      "text/plain": [
       "<Figure size 640x480 with 1 Axes>"
      ]
     },
     "metadata": {},
     "output_type": "display_data"
    }
   ],
   "source": [
    "x = np.array([0,1,2,3,4])\n",
    "y1 = np.array([0,4,0,4,0])\n",
    "y2 = np.array([0,4,8,12,16])\n",
    "plt.figure()\n",
    "plt.plot(x,y2,'g')\n",
    "plt.plot(x,y1, 'b')\n",
    "plt.grid()\n",
    "plt.ylim([0,16])\n",
    "plt.xlim([0,4])\n",
    "plt.xticks([])\n",
    "plt.ylabel(\"Frequency\")\n",
    "plt.xlabel(\"time\")\n",
    "plt.legend(['Original input Signal','Aliased signal after sampling'])"
   ]
  },
  {
   "cell_type": "markdown",
   "id": "07779eef",
   "metadata": {
    "deletable": false,
    "editable": false,
    "nbgrader": {
     "cell_type": "markdown",
     "checksum": "8bb934aecf38f823c3e08334392bb30d",
     "grade": false,
     "grade_id": "Task7",
     "locked": true,
     "schema_version": 3,
     "solution": false,
     "task": false
    }
   },
   "source": [
    "#### Task VII:\n",
    "Base on this graph write a function to calculate the first three aliasing frequencies for 1 KHz signal for a sampling rate of 8 KHz"
   ]
  },
  {
   "cell_type": "code",
   "execution_count": null,
   "id": "67bcaa80",
   "metadata": {
    "deletable": false,
    "nbgrader": {
     "cell_type": "code",
     "checksum": "ac25dde2a96d03a5396b696e5d81c663",
     "grade": false,
     "grade_id": "Task7_Answer",
     "locked": false,
     "schema_version": 3,
     "solution": true,
     "task": false
    }
   },
   "outputs": [],
   "source": [
    "def aliasing(fs,f,n):\n",
    "    # fs = sampling Frequency\n",
    "    # f = frequency of signal to be recorded\n",
    "    # n = any whole number for first n aliasing\n",
    "    # Begin your Code here\n",
    "    # YOUR CODE HERE\n",
    "    raise NotImplementedError()\n",
    "\n",
    "n = np.array([1,2,3])\n",
    "f = 1000\n",
    "fs = 8000\n",
    "fa = aliasing(fs,f,n)\n",
    "print(fa)\n",
    "# End your Code here\n",
    "# The answer fa should be a 1D np-array and sorted according to ascending order"
   ]
  },
  {
   "cell_type": "code",
   "execution_count": 15,
   "id": "3edde2f6",
   "metadata": {
    "deletable": false,
    "editable": false,
    "nbgrader": {
     "cell_type": "code",
     "checksum": "d74b6207ea41169e51659b5db0569739",
     "grade": true,
     "grade_id": "Task7_Test",
     "locked": true,
     "points": 2,
     "schema_version": 3,
     "solution": false,
     "task": false
    }
   },
   "outputs": [
    {
     "ename": "NameError",
     "evalue": "name 'aliasing' is not defined",
     "output_type": "error",
     "traceback": [
      "\u001b[1;31m---------------------------------------------------------------------------\u001b[0m",
      "\u001b[1;31mNameError\u001b[0m                                 Traceback (most recent call last)",
      "Cell \u001b[1;32mIn[15], line 11\u001b[0m\n\u001b[0;32m      9\u001b[0m f \u001b[39m=\u001b[39m \u001b[39m1000\u001b[39m\n\u001b[0;32m     10\u001b[0m fs \u001b[39m=\u001b[39m \u001b[39m8000\u001b[39m\n\u001b[1;32m---> 11\u001b[0m fa \u001b[39m=\u001b[39m aliasing(fs,f,n)\n\u001b[0;32m     12\u001b[0m f_check \u001b[39m=\u001b[39m aliasing_test(fs,f,n)\n\u001b[0;32m     13\u001b[0m \u001b[39massert\u001b[39;00m np\u001b[39m.\u001b[39marray_equal(fa,f_check)\n",
      "\u001b[1;31mNameError\u001b[0m: name 'aliasing' is not defined"
     ]
    }
   ],
   "source": [
    "def aliasing_test(fs,f,n):\n",
    "    fa1 = n*fs+f\n",
    "    fa2 = n*fs-f\n",
    "    fa = np.concatenate((fa1,fa2))\n",
    "    fa.sort()\n",
    "    return fa\n",
    "\n",
    "n = np.array([1,2,3])\n",
    "f = 1000\n",
    "fs = 8000\n",
    "fa = aliasing(fs,f,n)\n",
    "f_check = aliasing_test(fs,f,n)\n",
    "assert np.array_equal(fa,f_check)"
   ]
  },
  {
   "cell_type": "markdown",
   "id": "56a57584",
   "metadata": {
    "deletable": false,
    "editable": false,
    "nbgrader": {
     "cell_type": "markdown",
     "checksum": "c16ef58fec0e5fc55b9d6f5c980d1b1b",
     "grade": false,
     "grade_id": "Introduction4",
     "locked": true,
     "schema_version": 3,
     "solution": false,
     "task": false
    }
   },
   "source": [
    "### Quantization\n",
    "So far on our quest for converting analog audio signals, the digital ones we have only been looking at one aspect of the signal. It is the timing sampling. As we found out is just the process of selecting a regular time interval at which we make our measurements so at a sampling rate of 44.1 KHz, we have evenly split our signal along the time axis into 44100 points every second and at these points we can measure the signal amplitude all the rest of the points in between are skipped. To have any chance of representing an Analog signal in the digital domain, we sample the signal at discrete points in the time, and ignor the rest.\n",
    "\n",
    "Similarly, each point on the amplitude scale can have a theoretically infinite resolution with an unending number of digits so we really need to put a foot down and draw a line to represent the maximum resolution that we are willing to maintain. The size of the sampling interval along the amplitude axis or the y-axis in this case determines the maximum dynamic range that the digital signal can represent.\n",
    "###### Dynamic range is the range between the highest and the lowest amplitude moments in the sound.\n",
    "This dynamic range also corresponds to the accuracy. As a matterof fact resolution impacts the amount of noise in the signal.\n",
    "\n",
    "Let's have a task on quantization of a sine wave to understand it better:"
   ]
  },
  {
   "cell_type": "markdown",
   "id": "855e13b6",
   "metadata": {
    "deletable": false,
    "editable": false,
    "nbgrader": {
     "cell_type": "markdown",
     "checksum": "c26814913856e06329250315b6d493b7",
     "grade": false,
     "grade_id": "Task8",
     "locked": true,
     "schema_version": 3,
     "solution": false,
     "task": false
    }
   },
   "source": [
    "#### Task VII:\n",
    "Suppose that you have a sine wave which is digitized with 16 bits resolution.\n",
    "Define a function that can calculate the number of discrete levels for any input number of bits and the dynamic range.\n",
    "Once you have write function calculate the number of discrete levels and the dynamic range for Two, four, eight, sixteen and twenty four bits ADCs (Analog to Digital Converters) an return in np arrays."
   ]
  },
  {
   "cell_type": "code",
   "execution_count": null,
   "id": "b19d8d7e",
   "metadata": {
    "deletable": false,
    "nbgrader": {
     "cell_type": "code",
     "checksum": "38f322135e8fdf93f592ff820df8f778",
     "grade": false,
     "grade_id": "Task8_Answer",
     "locked": false,
     "schema_version": 3,
     "solution": true,
     "task": false
    }
   },
   "outputs": [],
   "source": [
    "def level_cacl(bits):\n",
    "    \n",
    "    # bits = and np array with [2,4,8,16,24]\n",
    "    # YOUR CODE HERE\n",
    "    raise NotImplementedError()\n",
    "    \n",
    "# Test you code such as:\n",
    "bits = np.array([2,4,8,16,24])\n",
    "dis_levels, dyn_range = level_cacl(bits)\n",
    "print(dis_levels)\n",
    "print(dyn_range)"
   ]
  },
  {
   "cell_type": "code",
   "execution_count": null,
   "id": "19cfc388",
   "metadata": {
    "deletable": false,
    "editable": false,
    "nbgrader": {
     "cell_type": "code",
     "checksum": "f864941891073be218fd389672386231",
     "grade": true,
     "grade_id": "Task8_Test",
     "locked": true,
     "points": 0,
     "schema_version": 3,
     "solution": false,
     "task": false
    }
   },
   "outputs": [],
   "source": [
    "def level_cacl_check(bits):\n",
    "    dis_levels = 2**bits\n",
    "    dyn_range = 20*np.log10(2**bits)\n",
    "    return dis_levels, dyn_range\n",
    "\n",
    "bits = np.array([2,4,8,16,24])\n",
    "dis_levels_check, dyn_range_check = level_cacl_check(bits)\n",
    "dis_levels, dyn_range = level_cacl(bits)\n",
    "#\n",
    "assert np.array_equal(dis_levels,dis_levels_check)\n",
    "assert np.array_equal(dyn_range,dyn_range_check)"
   ]
  },
  {
   "cell_type": "markdown",
   "id": "90efe626",
   "metadata": {
    "deletable": false,
    "editable": false,
    "nbgrader": {
     "cell_type": "markdown",
     "checksum": "3b7c780a53b3efd639d13b9346911daf",
     "grade": false,
     "grade_id": "Task9",
     "locked": true,
     "schema_version": 3,
     "solution": false,
     "task": false
    }
   },
   "source": [
    "Now you have two sine wave for one second duration sampled at 44.1 KHz with amplitue of 1V.\n",
    "One sine wave is of 32 bits resolution and then it is quantized to another sine wave of 8 bits resolution.\n",
    "Duringthis process a quantization noise is introduced. Your task is to:\n",
    "1. Calculate energies of the followings (in dB):\n",
    "a. Noise, which is introduced in 8 bits sine wave\n",
    "2. Plots\n",
    "a. First 60 samples of both sine waves togather in time domain (in one plot) and observe the quantization.\n",
    "b. Spectra of both sine wave in dB (separate figures) and observe that the noise is present in 8 bit sine wave while there is almost no noise in 32-bit sine wave"
   ]
  },
  {
   "cell_type": "code",
   "execution_count": null,
   "id": "f9da8734",
   "metadata": {
    "deletable": false,
    "nbgrader": {
     "cell_type": "code",
     "checksum": "2ba7f414b70cb5b09dfeba415b7d2f5a",
     "grade": false,
     "grade_id": "Task9_Answer",
     "locked": false,
     "schema_version": 3,
     "solution": true,
     "task": false
    }
   },
   "outputs": [],
   "source": [
    "def quantization_energy(audio32,audio8):\n",
    "    # audio32 = sine wave signal with 32 bit resolution\n",
    "    # audio8 = sine wave signal with 8 bit resolution\n",
    "    \n",
    "    # Start Code here\n",
    "    \n",
    "    # YOUR CODE HERE\n",
    "    raise NotImplementedError()\n",
    "    # End Code here\n",
    "        \n",
    "# Read the 32 bits sine wave (available at nextcloud folder)\n",
    "audio32 = librosa.load('sine32.wav')\n",
    "# Read the 32 bits sine wave (available at nextcloud folder)\n",
    "audio8 = librosa.load('sine8.wav')\n",
    "energy_noise = quantization_energy(audio32,audio8)\n",
    "print(energy_noise)"
   ]
  },
  {
   "cell_type": "code",
   "execution_count": null,
   "id": "5444ac71",
   "metadata": {
    "deletable": false,
    "editable": false,
    "nbgrader": {
     "cell_type": "code",
     "checksum": "407873131fe121f0615611c5decd29af",
     "grade": true,
     "grade_id": "Task9_Test",
     "locked": true,
     "points": 2,
     "schema_version": 3,
     "solution": false,
     "task": false
    }
   },
   "outputs": [],
   "source": [
    "def quantization_energy_chk(audio32,audio8):\n",
    "    qnt_noise = audio32[0]-audio8[0]\n",
    "    energy_noise = 10*np.log10(np.sum(np.square(qnt_noise)))\n",
    "    return energy_noise\n",
    "\n",
    "# Read the 32 bits sine wave (available at nextcloud folder)\n",
    "audio32 = librosa.load('sine32.wav')\n",
    "# Read the 32 bits sine wave (available at nextcloud folder)\n",
    "audio8 = librosa.load('sine8.wav')\n",
    "energy_noise_chk = quantization_energy_chk(audio32,audio8)\n",
    "energy_noise = quantization_energy(audio32,audio8)\n",
    "\n",
    "assert energy_noise_chk == energy_noise\n"
   ]
  },
  {
   "cell_type": "code",
   "execution_count": null,
   "id": "0d5ca6d2",
   "metadata": {
    "deletable": false,
    "nbgrader": {
     "cell_type": "code",
     "checksum": "c77b109f87d4b268f19fc1fb07a2bc80",
     "grade": true,
     "grade_id": "Task10_Answer",
     "locked": false,
     "points": 0,
     "schema_version": 3,
     "solution": true,
     "task": false
    }
   },
   "outputs": [],
   "source": [
    "# Plots\n",
    "# YOUR CODE HERE\n",
    "raise NotImplementedError()"
   ]
  },
  {
   "cell_type": "markdown",
   "id": "2f9bcc4d",
   "metadata": {
    "deletable": false,
    "editable": false,
    "nbgrader": {
     "cell_type": "markdown",
     "checksum": "7f1f83ffd0b29112a04582ec544ba11c",
     "grade": false,
     "grade_id": "Final",
     "locked": true,
     "schema_version": 3,
     "solution": false,
     "task": false
    }
   },
   "source": [
    "### Congratulations on the completion of assignment"
   ]
  },
  {
   "cell_type": "code",
   "execution_count": null,
   "id": "394825cd",
   "metadata": {},
   "outputs": [],
   "source": []
  }
 ],
 "metadata": {
  "kernelspec": {
   "display_name": "dlp",
   "language": "python",
   "name": "python3"
  },
  "language_info": {
   "codemirror_mode": {
    "name": "ipython",
    "version": 3
   },
   "file_extension": ".py",
   "mimetype": "text/x-python",
   "name": "python",
   "nbconvert_exporter": "python",
   "pygments_lexer": "ipython3",
   "version": "3.10.8"
  },
  "vscode": {
   "interpreter": {
    "hash": "c268bdd13dd0a3dc3fda71f5ee3a9d4f00ef0f3c1e6002ddfe4964e62f253ef3"
   }
  }
 },
 "nbformat": 4,
 "nbformat_minor": 5
}
